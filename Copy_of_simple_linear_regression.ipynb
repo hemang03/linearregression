{
  "nbformat": 4,
  "nbformat_minor": 0,
  "metadata": {
    "colab": {
      "name": "Copy of simple_linear_regression.ipynb",
      "provenance": [],
      "toc_visible": true,
      "include_colab_link": true
    },
    "kernelspec": {
      "name": "python3",
      "display_name": "Python 3"
    }
  },
  "cells": [
    {
      "cell_type": "markdown",
      "metadata": {
        "id": "view-in-github",
        "colab_type": "text"
      },
      "source": [
        "<a href=\"https://colab.research.google.com/github/hemang03/linearregression/blob/master/Copy_of_simple_linear_regression.ipynb\" target=\"_parent\"><img src=\"https://colab.research.google.com/assets/colab-badge.svg\" alt=\"Open In Colab\"/></a>"
      ]
    },
    {
      "cell_type": "markdown",
      "metadata": {
        "id": "l_LulNCC8z96",
        "colab_type": "text"
      },
      "source": [
        "# Simple Linear Regression"
      ]
    },
    {
      "cell_type": "markdown",
      "metadata": {
        "id": "xpXdowrE9DxW",
        "colab_type": "text"
      },
      "source": [
        "## Importing the libraries"
      ]
    },
    {
      "cell_type": "code",
      "metadata": {
        "id": "nhKd4hWx9GFt",
        "colab_type": "code",
        "colab": {}
      },
      "source": [
        "import numpy as np\n",
        "import matplotlib.pyplot as plt\n",
        "import pandas as pd\n",
        "import statsmodels.api as sm\n",
        "import seaborn as sns"
      ],
      "execution_count": 11,
      "outputs": []
    },
    {
      "cell_type": "markdown",
      "metadata": {
        "id": "6JhpWJi59J1p",
        "colab_type": "text"
      },
      "source": [
        "## Importing the dataset"
      ]
    },
    {
      "cell_type": "code",
      "metadata": {
        "id": "f8GfYDZ59O18",
        "colab_type": "code",
        "colab": {}
      },
      "source": [
        "dataset = pd.read_csv('Salary_Data.csv')\n",
        "X = dataset.iloc[:, :-1].values\n",
        "y = dataset.iloc[:, -1].values"
      ],
      "execution_count": 12,
      "outputs": []
    },
    {
      "cell_type": "markdown",
      "metadata": {
        "id": "AyhQaTwP9RzG",
        "colab_type": "text"
      },
      "source": [
        "## Splitting the dataset into the Training set and Test set"
      ]
    },
    {
      "cell_type": "code",
      "metadata": {
        "id": "bxOOauiN9VpC",
        "colab_type": "code",
        "colab": {}
      },
      "source": [
        "from sklearn.model_selection import train_test_split\n",
        "X_train, X_test, y_train, y_test = train_test_split(X, y, test_size = 1/3, random_state = 0)"
      ],
      "execution_count": 13,
      "outputs": []
    },
    {
      "cell_type": "markdown",
      "metadata": {
        "id": "ZijQwFMQ9itx",
        "colab_type": "text"
      },
      "source": [
        "## Training the Simple Linear Regression model on the Training set"
      ]
    },
    {
      "cell_type": "code",
      "metadata": {
        "id": "B4Aj_8YJ9l7J",
        "colab_type": "code",
        "colab": {}
      },
      "source": [
        "reg = sm.OLS(X_train  , y_train).fit()"
      ],
      "execution_count": 14,
      "outputs": []
    },
    {
      "cell_type": "markdown",
      "metadata": {
        "id": "wa2T1Lq89o5H",
        "colab_type": "text"
      },
      "source": [
        "## Predicting the Test set results"
      ]
    },
    {
      "cell_type": "code",
      "metadata": {
        "id": "Rn_sTJ2o9smm",
        "colab_type": "code",
        "colab": {}
      },
      "source": [
        "y_pred = reg.predict(X_test)"
      ],
      "execution_count": 25,
      "outputs": []
    },
    {
      "cell_type": "code",
      "metadata": {
        "id": "5hhm72EhruWN",
        "colab_type": "code",
        "colab": {
          "base_uri": "https://localhost:8080/",
          "height": 282
        },
        "outputId": "419d760e-57b4-4bce-c08a-748af086aa13"
      },
      "source": [
        "reg.summary2()"
      ],
      "execution_count": 18,
      "outputs": [
        {
          "output_type": "execute_result",
          "data": {
            "text/html": [
              "<table class=\"simpletable\">\n",
              "<tr>\n",
              "          <td>Model:</td>                 <td>OLS</td>       <td>Adj. R-squared (uncentered):</td>   <td>0.963</td> \n",
              "</tr>\n",
              "<tr>\n",
              "    <td>Dependent Variable:</td>           <td>y</td>                    <td>AIC:</td>              <td>58.8472</td>\n",
              "</tr>\n",
              "<tr>\n",
              "           <td>Date:</td>          <td>2020-06-27 08:12</td>             <td>BIC:</td>              <td>59.8429</td>\n",
              "</tr>\n",
              "<tr>\n",
              "     <td>No. Observations:</td>           <td>20</td>               <td>Log-Likelihood:</td>        <td>-28.424</td>\n",
              "</tr>\n",
              "<tr>\n",
              "         <td>Df Model:</td>                <td>1</td>                <td>F-statistic:</td>           <td>525.3</td> \n",
              "</tr>\n",
              "<tr>\n",
              "       <td>Df Residuals:</td>             <td>19</td>             <td>Prob (F-statistic):</td>     <td>2.64e-15</td>\n",
              "</tr>\n",
              "<tr>\n",
              "  <td>R-squared (uncentered):</td>       <td>0.965</td>                 <td>Scale:</td>             <td>1.0574</td> \n",
              "</tr>\n",
              "</table>\n",
              "<table class=\"simpletable\">\n",
              "<tr>\n",
              "   <td></td>   <th>Coef.</th> <th>Std.Err.</th>    <th>t</th>     <th>P>|t|</th> <th>[0.025</th> <th>0.975]</th>\n",
              "</tr>\n",
              "<tr>\n",
              "  <th>x1</th> <td>0.0001</td>  <td>0.0000</td>  <td>22.9198</td> <td>0.0000</td> <td>0.0001</td> <td>0.0001</td>\n",
              "</tr>\n",
              "</table>\n",
              "<table class=\"simpletable\">\n",
              "<tr>\n",
              "     <td>Omnibus:</td>    <td>0.950</td>  <td>Durbin-Watson:</td>   <td>2.787</td>\n",
              "</tr>\n",
              "<tr>\n",
              "  <td>Prob(Omnibus):</td> <td>0.622</td> <td>Jarque-Bera (JB):</td> <td>0.519</td>\n",
              "</tr>\n",
              "<tr>\n",
              "       <td>Skew:</td>     <td>0.390</td>     <td>Prob(JB):</td>     <td>0.771</td>\n",
              "</tr>\n",
              "<tr>\n",
              "     <td>Kurtosis:</td>   <td>2.876</td>  <td>Condition No.:</td>     <td>1</td>  \n",
              "</tr>\n",
              "</table>"
            ],
            "text/plain": [
              "<class 'statsmodels.iolib.summary2.Summary'>\n",
              "\"\"\"\n",
              "                       Results: Ordinary least squares\n",
              "==============================================================================\n",
              "Model:                  OLS              Adj. R-squared (uncentered): 0.963   \n",
              "Dependent Variable:     y                AIC:                         58.8472 \n",
              "Date:                   2020-06-27 08:12 BIC:                         59.8429 \n",
              "No. Observations:       20               Log-Likelihood:              -28.424 \n",
              "Df Model:               1                F-statistic:                 525.3   \n",
              "Df Residuals:           19               Prob (F-statistic):          2.64e-15\n",
              "R-squared (uncentered): 0.965            Scale:                       1.0574  \n",
              "------------------------------------------------------------------------------------\n",
              "          Coef.        Std.Err.          t          P>|t|        [0.025       0.975]\n",
              "------------------------------------------------------------------------------------\n",
              "x1        0.0001         0.0000       22.9198       0.0000       0.0001       0.0001\n",
              "------------------------------------------------------------------------------\n",
              "Omnibus:                   0.950            Durbin-Watson:               2.787\n",
              "Prob(Omnibus):             0.622            Jarque-Bera (JB):            0.519\n",
              "Skew:                      0.390            Prob(JB):                    0.771\n",
              "Kurtosis:                  2.876            Condition No.:               1    \n",
              "==============================================================================\n",
              "\n",
              "\"\"\""
            ]
          },
          "metadata": {
            "tags": []
          },
          "execution_count": 18
        }
      ]
    },
    {
      "cell_type": "code",
      "metadata": {
        "id": "IpQRuFY7vNg6",
        "colab_type": "code",
        "colab": {
          "base_uri": "https://localhost:8080/",
          "height": 300
        },
        "outputId": "e08e4eb4-af3c-401a-94b6-e3a628fdf89d"
      },
      "source": [
        "salary_resid = reg.resid\n",
        "ProbPlot=sm.ProbPlot(data = salary_resid)\n",
        "plt.figure(figsize=(8,6))\n",
        "ProbPlot.ppplot(line='45')\n",
        "plt.show()"
      ],
      "execution_count": 19,
      "outputs": [
        {
          "output_type": "display_data",
          "data": {
            "text/plain": [
              "<Figure size 576x432 with 0 Axes>"
            ]
          },
          "metadata": {
            "tags": []
          }
        },
        {
          "output_type": "display_data",
          "data": {
            "image/png": "[encoded data removed]",
            "text/plain": [
              "<Figure size 432x288 with 1 Axes>"
            ]
          },
          "metadata": {
            "tags": [],
            "needs_background": "light"
          }
        }
      ]
    },
    {
      "cell_type": "code",
      "metadata": {
        "id": "Y4VK1U9Vwk0-",
        "colab_type": "code",
        "colab": {}
      },
      "source": [
        "def get_standardised_value(vals):\n",
        "  return (vals - vals.mean())/vals.std()"
      ],
      "execution_count": 20,
      "outputs": []
    },
    {
      "cell_type": "code",
      "metadata": {
        "id": "teuurfxzxCeX",
        "colab_type": "code",
        "colab": {
          "base_uri": "https://localhost:8080/",
          "height": 295
        },
        "outputId": "bea7a1e0-10e7-40a1-9eb6-692cfc3e3438"
      },
      "source": [
        "plt.scatter(get_standardised_value(reg.fittedvalues),\n",
        "            get_standardised_value(reg.resid))\n",
        "plt.title('Residual plot')\n",
        "plt.xlabel('standard predicted value')\n",
        "plt.ylabel('standard Residual')\n",
        "plt.show()"
      ],
      "execution_count": 21,
      "outputs": [
        {
          "output_type": "display_data",
          "data": {
            "image/png": "[encoded data removed]",
            "text/plain": [
              "<Figure size 432x288 with 1 Axes>"
            ]
          },
          "metadata": {
            "tags": [],
            "needs_background": "light"
          }
        }
      ]
    },
    {
      "cell_type": "code",
      "metadata": {
        "id": "SU1P6WN1zKUJ",
        "colab_type": "code",
        "colab": {
          "base_uri": "https://localhost:8080/",
          "height": 402
        },
        "outputId": "d75988f7-f51f-47d2-c989-fc594e7d982a"
      },
      "source": [
        "from scipy.stats import zscore\n",
        "dataset['z_score_salary'] = zscore(dataset.Salary)\n",
        "dataset[ (dataset.z_score_salary > 1.0)| (dataset.z_score_salary < -1.0) ]"
      ],
      "execution_count": 22,
      "outputs": [
        {
          "output_type": "execute_result",
          "data": {
            "text/html": [
              "<div>\n",
              "<style scoped>\n",
              "    .dataframe tbody tr th:only-of-type {\n",
              "        vertical-align: middle;\n",
              "    }\n",
              "\n",
              "    .dataframe tbody tr th {\n",
              "        vertical-align: top;\n",
              "    }\n",
              "\n",
              "    .dataframe thead th {\n",
              "        text-align: right;\n",
              "    }\n",
              "</style>\n",
              "<table border=\"1\" class=\"dataframe\">\n",
              "  <thead>\n",
              "    <tr style=\"text-align: right;\">\n",
              "      <th></th>\n",
              "      <th>YearsExperience</th>\n",
              "      <th>Salary</th>\n",
              "      <th>z_score_salary</th>\n",
              "    </tr>\n",
              "  </thead>\n",
              "  <tbody>\n",
              "    <tr>\n",
              "      <th>0</th>\n",
              "      <td>1.1</td>\n",
              "      <td>39343.0</td>\n",
              "      <td>-1.360113</td>\n",
              "    </tr>\n",
              "    <tr>\n",
              "      <th>1</th>\n",
              "      <td>1.3</td>\n",
              "      <td>46205.0</td>\n",
              "      <td>-1.105527</td>\n",
              "    </tr>\n",
              "    <tr>\n",
              "      <th>2</th>\n",
              "      <td>1.5</td>\n",
              "      <td>37731.0</td>\n",
              "      <td>-1.419919</td>\n",
              "    </tr>\n",
              "    <tr>\n",
              "      <th>3</th>\n",
              "      <td>2.0</td>\n",
              "      <td>43525.0</td>\n",
              "      <td>-1.204957</td>\n",
              "    </tr>\n",
              "    <tr>\n",
              "      <th>4</th>\n",
              "      <td>2.2</td>\n",
              "      <td>39891.0</td>\n",
              "      <td>-1.339781</td>\n",
              "    </tr>\n",
              "    <tr>\n",
              "      <th>23</th>\n",
              "      <td>8.2</td>\n",
              "      <td>113812.0</td>\n",
              "      <td>1.402741</td>\n",
              "    </tr>\n",
              "    <tr>\n",
              "      <th>24</th>\n",
              "      <td>8.7</td>\n",
              "      <td>109431.0</td>\n",
              "      <td>1.240203</td>\n",
              "    </tr>\n",
              "    <tr>\n",
              "      <th>25</th>\n",
              "      <td>9.0</td>\n",
              "      <td>105582.0</td>\n",
              "      <td>1.097402</td>\n",
              "    </tr>\n",
              "    <tr>\n",
              "      <th>26</th>\n",
              "      <td>9.5</td>\n",
              "      <td>116969.0</td>\n",
              "      <td>1.519868</td>\n",
              "    </tr>\n",
              "    <tr>\n",
              "      <th>27</th>\n",
              "      <td>9.6</td>\n",
              "      <td>112635.0</td>\n",
              "      <td>1.359074</td>\n",
              "    </tr>\n",
              "    <tr>\n",
              "      <th>28</th>\n",
              "      <td>10.3</td>\n",
              "      <td>122391.0</td>\n",
              "      <td>1.721028</td>\n",
              "    </tr>\n",
              "    <tr>\n",
              "      <th>29</th>\n",
              "      <td>10.5</td>\n",
              "      <td>121872.0</td>\n",
              "      <td>1.701773</td>\n",
              "    </tr>\n",
              "  </tbody>\n",
              "</table>\n",
              "</div>"
            ],
            "text/plain": [
              "    YearsExperience    Salary  z_score_salary\n",
              "0               1.1   39343.0       -1.360113\n",
              "1               1.3   46205.0       -1.105527\n",
              "2               1.5   37731.0       -1.419919\n",
              "3               2.0   43525.0       -1.204957\n",
              "4               2.2   39891.0       -1.339781\n",
              "23              8.2  113812.0        1.402741\n",
              "24              8.7  109431.0        1.240203\n",
              "25              9.0  105582.0        1.097402\n",
              "26              9.5  116969.0        1.519868\n",
              "27              9.6  112635.0        1.359074\n",
              "28             10.3  122391.0        1.721028\n",
              "29             10.5  121872.0        1.701773"
            ]
          },
          "metadata": {
            "tags": []
          },
          "execution_count": 22
        }
      ]
    },
    {
      "cell_type": "code",
      "metadata": {
        "id": "VqOZ3BEa3CJN",
        "colab_type": "code",
        "colab": {
          "base_uri": "https://localhost:8080/",
          "height": 34
        },
        "outputId": "4f4cc849-94b7-467f-9345-c9d26d3e0a7d"
      },
      "source": [
        "# calculating the r2_score anf rmse\n",
        "from sklearn.metrics import r2_score , mean_squared_error\n",
        "(r2_score(y_test , y_test))\n"
      ],
      "execution_count": 23,
      "outputs": [
        {
          "output_type": "execute_result",
          "data": {
            "text/plain": [
              "1.0"
            ]
          },
          "metadata": {
            "tags": []
          },
          "execution_count": 23
        }
      ]
    },
    {
      "cell_type": "code",
      "metadata": {
        "id": "_lEoiReo37uQ",
        "colab_type": "code",
        "colab": {
          "base_uri": "https://localhost:8080/",
          "height": 34
        },
        "outputId": "11b7991a-b2c1-449a-a1b9-d0e5e8958931"
      },
      "source": [
        "np.sqrt(mean_squared_error(y_test , y_pred))\n"
      ],
      "execution_count": 24,
      "outputs": [
        {
          "output_type": "execute_result",
          "data": {
            "text/plain": [
              "90708.40962058346"
            ]
          },
          "metadata": {
            "tags": []
          },
          "execution_count": 24
        }
      ]
    }
  ]
}