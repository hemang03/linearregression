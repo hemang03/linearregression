{
  "nbformat": 4,
  "nbformat_minor": 0,
  "metadata": {
    "colab": {
      "name": "mnist_classification.ipynb",
      "provenance": [],
      "authorship_tag": "ABX9TyNm2DsIt0z0pmEP8tXXTyJk",
      "include_colab_link": true
    },
    "kernelspec": {
      "name": "python3",
      "display_name": "Python 3"
    }
  },
  "cells": [
    {
      "cell_type": "markdown",
      "metadata": {
        "id": "view-in-github",
        "colab_type": "text"
      },
      "source": [
        "<a href=\"https://colab.research.google.com/github/hemang03/linearregression/blob/master/mnist_classification.ipynb\" target=\"_parent\"><img src=\"https://colab.research.google.com/assets/colab-badge.svg\" alt=\"Open In Colab\"/></a>"
      ]
    },
    {
      "cell_type": "code",
      "metadata": {
        "id": "eL805cykcTzS",
        "colab_type": "code",
        "colab": {}
      },
      "source": [
        "from sklearn.datasets import fetch_openml\n",
        "from sklearn.model_selection import train_test_split\n",
        "import numpy as np\n",
        "import matplotlib.pyplot as plt"
      ],
      "execution_count": 275,
      "outputs": []
    },
    {
      "cell_type": "code",
      "metadata": {
        "id": "kR9z9z4NawZt",
        "colab_type": "code",
        "colab": {}
      },
      "source": [
        "from sklearn.datasets import fetch_openml\n",
        "mnist = fetch_openml('mnist_784', version=1, cache=True)\n"
      ],
      "execution_count": 276,
      "outputs": []
    },
    {
      "cell_type": "code",
      "metadata": {
        "id": "k3iOYMsbcoYM",
        "colab_type": "code",
        "colab": {
          "base_uri": "https://localhost:8080/",
          "height": 34
        },
        "outputId": "b0a16dd7-f8b2-43dc-d230-87ec2c5d4d5d"
      },
      "source": [
        "mnist.data.shape"
      ],
      "execution_count": 277,
      "outputs": [
        {
          "output_type": "execute_result",
          "data": {
            "text/plain": [
              "(70000, 784)"
            ]
          },
          "metadata": {
            "tags": []
          },
          "execution_count": 277
        }
      ]
    },
    {
      "cell_type": "code",
      "metadata": {
        "id": "OdjDDxTwdU3W",
        "colab_type": "code",
        "colab": {}
      },
      "source": [
        "X = mnist.data.astype('float32')\n",
        "y = mnist.target.astype('int64')"
      ],
      "execution_count": 278,
      "outputs": []
    },
    {
      "cell_type": "code",
      "metadata": {
        "id": "0XxdR9yWdqn6",
        "colab_type": "code",
        "colab": {
          "base_uri": "https://localhost:8080/",
          "height": 34
        },
        "outputId": "39e515de-4b89-480c-9a95-4c1112483e36"
      },
      "source": [
        "X.shape"
      ],
      "execution_count": 279,
      "outputs": [
        {
          "output_type": "execute_result",
          "data": {
            "text/plain": [
              "(70000, 784)"
            ]
          },
          "metadata": {
            "tags": []
          },
          "execution_count": 279
        }
      ]
    },
    {
      "cell_type": "code",
      "metadata": {
        "id": "EJyo7Z3Qdtam",
        "colab_type": "code",
        "colab": {
          "base_uri": "https://localhost:8080/",
          "height": 34
        },
        "outputId": "47eb4c30-ec50-453c-dd0b-f7106de0a342"
      },
      "source": [
        "y"
      ],
      "execution_count": 280,
      "outputs": [
        {
          "output_type": "execute_result",
          "data": {
            "text/plain": [
              "array([5, 0, 4, ..., 4, 5, 6])"
            ]
          },
          "metadata": {
            "tags": []
          },
          "execution_count": 280
        }
      ]
    },
    {
      "cell_type": "code",
      "metadata": {
        "id": "a_ZZJ5J2dvye",
        "colab_type": "code",
        "colab": {}
      },
      "source": [
        "X /= 255.0"
      ],
      "execution_count": 281,
      "outputs": []
    },
    {
      "cell_type": "code",
      "metadata": {
        "id": "E_V034bVfz6h",
        "colab_type": "code",
        "colab": {
          "base_uri": "https://localhost:8080/",
          "height": 34
        },
        "outputId": "10d10752-f34c-4578-b567-eb783105b07d"
      },
      "source": [
        "X.min() , X.max()"
      ],
      "execution_count": 282,
      "outputs": [
        {
          "output_type": "execute_result",
          "data": {
            "text/plain": [
              "(0.0, 1.0)"
            ]
          },
          "metadata": {
            "tags": []
          },
          "execution_count": 282
        }
      ]
    },
    {
      "cell_type": "code",
      "metadata": {
        "id": "aFaTCbjTv8B2",
        "colab_type": "code",
        "colab": {
          "base_uri": "https://localhost:8080/",
          "height": 248
        },
        "outputId": "2efa385a-9989-4998-e8d3-6dad6181fba6"
      },
      "source": [
        "%matplotlib inline\n",
        "import matplotlib \n",
        "import matplotlib.pyplot as plt\n",
        "some_digit = X[35000]\n",
        "some_digit_image = some_digit.reshape(28,28)\n",
        "plt.imshow(some_digit_image, cmap = matplotlib.cm.binary,\n",
        "          interpolation=\"nearest\")\n",
        "plt.axis(\"off\")\n",
        "plt.show()"
      ],
      "execution_count": 283,
      "outputs": [
        {
          "output_type": "display_data",
          "data": {
            "image/png": "[encoded data removed]",
            "text/plain": [
              "<Figure size 432x288 with 1 Axes>"
            ]
          },
          "metadata": {
            "tags": [],
            "needs_background": "light"
          }
        }
      ]
    },
    {
      "cell_type": "code",
      "metadata": {
        "id": "-m8VeiaIwZ_s",
        "colab_type": "code",
        "colab": {
          "base_uri": "https://localhost:8080/",
          "height": 34
        },
        "outputId": "23de6a6f-20e4-4720-82ac-b8d86d2c8a82"
      },
      "source": [
        "y[35000]"
      ],
      "execution_count": 284,
      "outputs": [
        {
          "output_type": "execute_result",
          "data": {
            "text/plain": [
              "1"
            ]
          },
          "metadata": {
            "tags": []
          },
          "execution_count": 284
        }
      ]
    },
    {
      "cell_type": "code",
      "metadata": {
        "id": "aUHseMBXw8sa",
        "colab_type": "code",
        "colab": {}
      },
      "source": [
        "X_train, X_test, y_train, y_test = X[:60000], X[60000:], y[:60000], y[60000:]"
      ],
      "execution_count": 285,
      "outputs": []
    },
    {
      "cell_type": "code",
      "metadata": {
        "id": "urW2Ow1jxSzU",
        "colab_type": "code",
        "colab": {
          "base_uri": "https://localhost:8080/",
          "height": 34
        },
        "outputId": "455c753b-7a33-433f-b15d-ce873160a4c3"
      },
      "source": [
        "X_test.shape"
      ],
      "execution_count": 286,
      "outputs": [
        {
          "output_type": "execute_result",
          "data": {
            "text/plain": [
              "(10000, 784)"
            ]
          },
          "metadata": {
            "tags": []
          },
          "execution_count": 286
        }
      ]
    },
    {
      "cell_type": "code",
      "metadata": {
        "id": "WpMIl2FHx5pL",
        "colab_type": "code",
        "colab": {}
      },
      "source": [
        "y_train_1= (y_train == 1)\n",
        "y_test_1 = (y_test == 1)"
      ],
      "execution_count": 287,
      "outputs": []
    },
    {
      "cell_type": "code",
      "metadata": {
        "id": "zc-d-IeYyJj7",
        "colab_type": "code",
        "colab": {
          "base_uri": "https://localhost:8080/",
          "height": 119
        },
        "outputId": "39fe9b40-e62c-4ce4-9981-4d96764c759e"
      },
      "source": [
        "from sklearn.linear_model import SGDClassifier\n",
        "model = SGDClassifier(max_iter=5, tol=-np.infty, random_state=42)\n",
        "model.fit(X_train , y_train_1)"
      ],
      "execution_count": 288,
      "outputs": [
        {
          "output_type": "execute_result",
          "data": {
            "text/plain": [
              "SGDClassifier(alpha=0.0001, average=False, class_weight=None,\n",
              "              early_stopping=False, epsilon=0.1, eta0=0.0, fit_intercept=True,\n",
              "              l1_ratio=0.15, learning_rate='optimal', loss='hinge', max_iter=5,\n",
              "              n_iter_no_change=5, n_jobs=None, penalty='l2', power_t=0.5,\n",
              "              random_state=42, shuffle=True, tol=-inf, validation_fraction=0.1,\n",
              "              verbose=0, warm_start=False)"
            ]
          },
          "metadata": {
            "tags": []
          },
          "execution_count": 288
        }
      ]
    },
    {
      "cell_type": "code",
      "metadata": {
        "id": "1bEgaIDTyvyA",
        "colab_type": "code",
        "colab": {}
      },
      "source": [
        "pred = model.predict([some_digit])"
      ],
      "execution_count": 289,
      "outputs": []
    },
    {
      "cell_type": "code",
      "metadata": {
        "id": "jzCG0PUJ1erK",
        "colab_type": "code",
        "colab": {
          "base_uri": "https://localhost:8080/",
          "height": 34
        },
        "outputId": "26b1680f-a449-40f9-bd15-6b3fdeca24f5"
      },
      "source": [
        "pred"
      ],
      "execution_count": 290,
      "outputs": [
        {
          "output_type": "execute_result",
          "data": {
            "text/plain": [
              "array([ True])"
            ]
          },
          "metadata": {
            "tags": []
          },
          "execution_count": 290
        }
      ]
    },
    {
      "cell_type": "code",
      "metadata": {
        "id": "eRVoHnkn1gek",
        "colab_type": "code",
        "colab": {}
      },
      "source": [
        "from sklearn.model_selection import cross_val_score\n",
        "cv = cross_val_score(model , X_train , y_train_9 , cv =10 , scoring= 'accuracy')"
      ],
      "execution_count": 291,
      "outputs": []
    },
    {
      "cell_type": "code",
      "metadata": {
        "id": "osBI8PY63sHc",
        "colab_type": "code",
        "colab": {
          "base_uri": "https://localhost:8080/",
          "height": 51
        },
        "outputId": "b37a6c55-fcc2-413c-d5b6-baac84cc22c1"
      },
      "source": [
        "cv"
      ],
      "execution_count": 292,
      "outputs": [
        {
          "output_type": "execute_result",
          "data": {
            "text/plain": [
              "array([0.9545    , 0.95916667, 0.957     , 0.96216667, 0.96216667,\n",
              "       0.96333333, 0.956     , 0.948     , 0.92416667, 0.941     ])"
            ]
          },
          "metadata": {
            "tags": []
          },
          "execution_count": 292
        }
      ]
    },
    {
      "cell_type": "code",
      "metadata": {
        "id": "N8uh5SR431Qn",
        "colab_type": "code",
        "colab": {}
      },
      "source": [
        "from sklearn.model_selection import cross_val_predict\n",
        "y_train_predict = cross_val_predict(model , X_train , y_train_9 , cv = 3 )"
      ],
      "execution_count": 293,
      "outputs": []
    },
    {
      "cell_type": "code",
      "metadata": {
        "id": "CyC2ErQy4cVv",
        "colab_type": "code",
        "colab": {
          "base_uri": "https://localhost:8080/",
          "height": 34
        },
        "outputId": "6e6c94b2-7566-40ce-d64f-bd317c8315f9"
      },
      "source": [
        "y_train_predict"
      ],
      "execution_count": 294,
      "outputs": [
        {
          "output_type": "execute_result",
          "data": {
            "text/plain": [
              "array([False, False, False, ..., False, False, False])"
            ]
          },
          "metadata": {
            "tags": []
          },
          "execution_count": 294
        }
      ]
    },
    {
      "cell_type": "code",
      "metadata": {
        "id": "QDMy-5xf4tm0",
        "colab_type": "code",
        "colab": {
          "base_uri": "https://localhost:8080/",
          "height": 51
        },
        "outputId": "f3e95181-1ccb-4e6d-b634-af014122c52a"
      },
      "source": [
        "from sklearn.metrics import confusion_matrix\n",
        "confusion_matrix(y_train_9, y_train_predict)"
      ],
      "execution_count": 295,
      "outputs": [
        {
          "output_type": "execute_result",
          "data": {
            "text/plain": [
              "array([[52881,  1170],\n",
              "       [ 1470,  4479]])"
            ]
          },
          "metadata": {
            "tags": []
          },
          "execution_count": 295
        }
      ]
    },
    {
      "cell_type": "code",
      "metadata": {
        "id": "sHls3ID07rHX",
        "colab_type": "code",
        "colab": {}
      },
      "source": [
        "y_train_perfect_predictions = y_train_1"
      ],
      "execution_count": 298,
      "outputs": []
    },
    {
      "cell_type": "code",
      "metadata": {
        "id": "yXuotG8X1bXi",
        "colab_type": "code",
        "colab": {
          "base_uri": "https://localhost:8080/",
          "height": 51
        },
        "outputId": "f7f83055-789b-43eb-bf08-fd3327f7cc18"
      },
      "source": [
        "from sklearn.metrics import confusion_matrix\n",
        "confusion_matrix(y_train_9, y_train_perfect_predictions)"
      ],
      "execution_count": 299,
      "outputs": [
        {
          "output_type": "execute_result",
          "data": {
            "text/plain": [
              "array([[47309,  6742],\n",
              "       [ 5949,     0]])"
            ]
          },
          "metadata": {
            "tags": []
          },
          "execution_count": 299
        }
      ]
    },
    {
      "cell_type": "code",
      "metadata": {
        "id": "hf5wtIrKxUpr",
        "colab_type": "code",
        "colab": {
          "base_uri": "https://localhost:8080/",
          "height": 34
        },
        "outputId": "848ccea0-22cb-4097-8ab3-0bb0eb05d616"
      },
      "source": [
        "from sklearn.metrics import precision_score , recall_score\n",
        "precision_score(y_train_9, y_train_predict)"
      ],
      "execution_count": 300,
      "outputs": [
        {
          "output_type": "execute_result",
          "data": {
            "text/plain": [
              "0.7928836962294211"
            ]
          },
          "metadata": {
            "tags": []
          },
          "execution_count": 300
        }
      ]
    },
    {
      "cell_type": "code",
      "metadata": {
        "id": "7EbU1-gd_API",
        "colab_type": "code",
        "colab": {
          "base_uri": "https://localhost:8080/",
          "height": 34
        },
        "outputId": "3d7dd2da-a212-4bf6-bc4d-3841cb15ae05"
      },
      "source": [
        "recall_score(y_train_9 , y_train_predict)"
      ],
      "execution_count": 301,
      "outputs": [
        {
          "output_type": "execute_result",
          "data": {
            "text/plain": [
              "0.7528996469994957"
            ]
          },
          "metadata": {
            "tags": []
          },
          "execution_count": 301
        }
      ]
    },
    {
      "cell_type": "code",
      "metadata": {
        "id": "90crfIexErUx",
        "colab_type": "code",
        "colab": {
          "base_uri": "https://localhost:8080/",
          "height": 34
        },
        "outputId": "daea1289-dd74-457f-c3ff-3daa2a8c3c1c"
      },
      "source": [
        "from sklearn.metrics import  f1_score\n",
        "f1_score(y_train_9 , y_train_predict)"
      ],
      "execution_count": 302,
      "outputs": [
        {
          "output_type": "execute_result",
          "data": {
            "text/plain": [
              "0.7723745473357474"
            ]
          },
          "metadata": {
            "tags": []
          },
          "execution_count": 302
        }
      ]
    },
    {
      "cell_type": "code",
      "metadata": {
        "id": "SHQixrOeFo4y",
        "colab_type": "code",
        "colab": {
          "base_uri": "https://localhost:8080/",
          "height": 34
        },
        "outputId": "bfd30b4e-9828-4581-f5ef-5f26a2bb2c4a"
      },
      "source": [
        "y_scores = model.decision_function([some_digit])\n",
        "y_scores"
      ],
      "execution_count": 303,
      "outputs": [
        {
          "output_type": "execute_result",
          "data": {
            "text/plain": [
              "array([6.38371145])"
            ]
          },
          "metadata": {
            "tags": []
          },
          "execution_count": 303
        }
      ]
    },
    {
      "cell_type": "code",
      "metadata": {
        "id": "j28xFQZjJiDu",
        "colab_type": "code",
        "colab": {}
      },
      "source": [
        "threshold = 0\n",
        "y_some_digit_predict = (y_scores > threshold)"
      ],
      "execution_count": 304,
      "outputs": []
    },
    {
      "cell_type": "code",
      "metadata": {
        "id": "KOBnW8RFKCJu",
        "colab_type": "code",
        "colab": {
          "base_uri": "https://localhost:8080/",
          "height": 34
        },
        "outputId": "1e518e31-5c26-47ac-8684-09e0a52d0708"
      },
      "source": [
        "y_some_digit_predict"
      ],
      "execution_count": 305,
      "outputs": [
        {
          "output_type": "execute_result",
          "data": {
            "text/plain": [
              "array([ True])"
            ]
          },
          "metadata": {
            "tags": []
          },
          "execution_count": 305
        }
      ]
    },
    {
      "cell_type": "code",
      "metadata": {
        "id": "w1Cx8I2_LiQp",
        "colab_type": "code",
        "colab": {}
      },
      "source": [
        "from sklearn.model_selection import cross_val_predict\n",
        "\n",
        "y_scores = cross_val_predict(model, X_train, y_train_1, cv=3,\n",
        "                             method=\"decision_function\")"
      ],
      "execution_count": 306,
      "outputs": []
    },
    {
      "cell_type": "code",
      "metadata": {
        "id": "wtkZgoK2M9Ol",
        "colab_type": "code",
        "colab": {}
      },
      "source": [
        ""
      ],
      "execution_count": null,
      "outputs": []
    },
    {
      "cell_type": "code",
      "metadata": {
        "id": "YBnU6hoTL6Ss",
        "colab_type": "code",
        "colab": {
          "base_uri": "https://localhost:8080/",
          "height": 51
        },
        "outputId": "08599ab8-0cda-48e0-b2e9-a601c49d0613"
      },
      "source": [
        "y_scores"
      ],
      "execution_count": 307,
      "outputs": [
        {
          "output_type": "execute_result",
          "data": {
            "text/plain": [
              "array([-16.49321546, -23.69074147, -13.79227986, ...,  -6.50278416,\n",
              "       -15.83811248, -19.43343878])"
            ]
          },
          "metadata": {
            "tags": []
          },
          "execution_count": 307
        }
      ]
    },
    {
      "cell_type": "code",
      "metadata": {
        "id": "D6pDqkfAL8cH",
        "colab_type": "code",
        "colab": {}
      },
      "source": [
        "from sklearn.metrics import precision_recall_curve"
      ],
      "execution_count": 308,
      "outputs": []
    },
    {
      "cell_type": "code",
      "metadata": {
        "id": "tlYA8YK5L0QP",
        "colab_type": "code",
        "colab": {}
      },
      "source": [
        "from sklearn.metrics import precision_recall_curve\n",
        "\n",
        "precisions, recalls, thresholds = precision_recall_curve(y_train_1, y_scores)\n"
      ],
      "execution_count": 309,
      "outputs": []
    },
    {
      "cell_type": "code",
      "metadata": {
        "id": "dCdlmK3Jhnlo",
        "colab_type": "code",
        "colab": {
          "base_uri": "https://localhost:8080/",
          "height": 51
        },
        "outputId": "0912f047-808d-46ad-bd30-58393130cd51"
      },
      "source": [
        "precisions"
      ],
      "execution_count": 310,
      "outputs": [
        {
          "output_type": "execute_result",
          "data": {
            "text/plain": [
              "array([0.15494932, 0.1549299 , 0.15493346, ..., 1.        , 1.        ,\n",
              "       1.        ])"
            ]
          },
          "metadata": {
            "tags": []
          },
          "execution_count": 310
        }
      ]
    },
    {
      "cell_type": "code",
      "metadata": {
        "id": "pohPmwcrhq-0",
        "colab_type": "code",
        "colab": {}
      },
      "source": [
        ""
      ],
      "execution_count": null,
      "outputs": []
    },
    {
      "cell_type": "code",
      "metadata": {
        "id": "E-eSx5E_Mjw3",
        "colab_type": "code",
        "colab": {}
      },
      "source": [
        "\n",
        "y_train_pred_90 = (y_scores > 70000)"
      ],
      "execution_count": 311,
      "outputs": []
    },
    {
      "cell_type": "code",
      "metadata": {
        "id": "lOYgYjUKMdy2",
        "colab_type": "code",
        "colab": {
          "base_uri": "https://localhost:8080/",
          "height": 88
        },
        "outputId": "a7138c61-e8bf-44b1-b073-e0390163fd7c"
      },
      "source": [
        "precision_score(y_train_1 , y_train_90)"
      ],
      "execution_count": 312,
      "outputs": [
        {
          "output_type": "stream",
          "text": [
            "/usr/local/lib/python3.6/dist-packages/sklearn/metrics/_classification.py:1272: UndefinedMetricWarning: Precision is ill-defined and being set to 0.0 due to no predicted samples. Use `zero_division` parameter to control this behavior.\n",
            "  _warn_prf(average, modifier, msg_start, len(result))\n"
          ],
          "name": "stderr"
        },
        {
          "output_type": "execute_result",
          "data": {
            "text/plain": [
              "0.0"
            ]
          },
          "metadata": {
            "tags": []
          },
          "execution_count": 312
        }
      ]
    },
    {
      "cell_type": "code",
      "metadata": {
        "id": "_V7h6VrJN4_F",
        "colab_type": "code",
        "colab": {
          "base_uri": "https://localhost:8080/",
          "height": 34
        },
        "outputId": "ec854328-45d7-404e-d585-b1cb0478b611"
      },
      "source": [
        "recall_score(y_train_1 , y_train_90)"
      ],
      "execution_count": 313,
      "outputs": [
        {
          "output_type": "execute_result",
          "data": {
            "text/plain": [
              "0.0"
            ]
          },
          "metadata": {
            "tags": []
          },
          "execution_count": 313
        }
      ]
    },
    {
      "cell_type": "code",
      "metadata": {
        "id": "CwARvWa6OROl",
        "colab_type": "code",
        "colab": {}
      },
      "source": [
        "from sklearn.metrics import roc_curve"
      ],
      "execution_count": 315,
      "outputs": []
    },
    {
      "cell_type": "code",
      "metadata": {
        "id": "AedWCItjMWM-",
        "colab_type": "code",
        "colab": {
          "base_uri": "https://localhost:8080/",
          "height": 1000
        },
        "outputId": "35ccfc33-dbc2-404f-dba6-e0499bffd46e"
      },
      "source": [
        "roc_curve(y_train_1 , y_scores)"
      ],
      "execution_count": 316,
      "outputs": [
        {
          "output_type": "execute_result",
          "data": {
            "text/plain": [
              "(array([0.00000000e+00, 0.00000000e+00, 0.00000000e+00, 1.87765218e-05,\n",
              "        1.87765218e-05, 3.75530437e-05, 3.75530437e-05, 5.63295655e-05,\n",
              "        5.63295655e-05, 7.51060873e-05, 7.51060873e-05, 9.38826092e-05,\n",
              "        9.38826092e-05, 1.12659131e-04, 1.12659131e-04, 1.31435653e-04,\n",
              "        1.31435653e-04, 1.50212175e-04, 1.50212175e-04, 1.68988697e-04,\n",
              "        1.68988697e-04, 1.87765218e-04, 1.87765218e-04, 2.06541740e-04,\n",
              "        2.06541740e-04, 2.25318262e-04, 2.25318262e-04, 2.44094784e-04,\n",
              "        2.44094784e-04, 2.62871306e-04, 2.62871306e-04, 2.81647828e-04,\n",
              "        2.81647828e-04, 3.00424349e-04, 3.00424349e-04, 3.19200871e-04,\n",
              "        3.19200871e-04, 3.37977393e-04, 3.37977393e-04, 3.56753915e-04,\n",
              "        3.56753915e-04, 3.75530437e-04, 3.75530437e-04, 3.94306959e-04,\n",
              "        3.94306959e-04, 4.13083480e-04, 4.13083480e-04, 4.31860002e-04,\n",
              "        4.31860002e-04, 4.50636524e-04, 4.50636524e-04, 4.69413046e-04,\n",
              "        4.69413046e-04, 4.88189568e-04, 4.88189568e-04, 5.06966090e-04,\n",
              "        5.06966090e-04, 5.25742611e-04, 5.25742611e-04, 5.44519133e-04,\n",
              "        5.44519133e-04, 5.63295655e-04, 5.63295655e-04, 5.82072177e-04,\n",
              "        5.82072177e-04, 6.19625221e-04, 6.19625221e-04, 6.38401742e-04,\n",
              "        6.38401742e-04, 6.57178264e-04, 6.57178264e-04, 6.75954786e-04,\n",
              "        6.75954786e-04, 6.94731308e-04, 6.94731308e-04, 7.13507830e-04,\n",
              "        7.13507830e-04, 7.51060873e-04, 7.51060873e-04, 7.69837395e-04,\n",
              "        7.69837395e-04, 7.88613917e-04, 7.88613917e-04, 8.07390439e-04,\n",
              "        8.07390439e-04, 8.26166961e-04, 8.26166961e-04, 8.44943483e-04,\n",
              "        8.44943483e-04, 8.63720005e-04, 8.63720005e-04, 8.82496526e-04,\n",
              "        8.82496526e-04, 9.01273048e-04, 9.01273048e-04, 9.20049570e-04,\n",
              "        9.20049570e-04, 9.38826092e-04, 9.38826092e-04, 9.57602614e-04,\n",
              "        9.57602614e-04, 9.76379136e-04, 9.76379136e-04, 9.95155657e-04,\n",
              "        9.95155657e-04, 1.01393218e-03, 1.01393218e-03, 1.03270870e-03,\n",
              "        1.03270870e-03, 1.05148522e-03, 1.05148522e-03, 1.08903827e-03,\n",
              "        1.08903827e-03, 1.10781479e-03, 1.10781479e-03, 1.12659131e-03,\n",
              "        1.12659131e-03, 1.14536783e-03, 1.14536783e-03, 1.16414435e-03,\n",
              "        1.16414435e-03, 1.18292088e-03, 1.18292088e-03, 1.20169740e-03,\n",
              "        1.20169740e-03, 1.22047392e-03, 1.22047392e-03, 1.23925044e-03,\n",
              "        1.23925044e-03, 1.25802696e-03, 1.25802696e-03, 1.27680348e-03,\n",
              "        1.27680348e-03, 1.29558001e-03, 1.29558001e-03, 1.31435653e-03,\n",
              "        1.31435653e-03, 1.33313305e-03, 1.33313305e-03, 1.35190957e-03,\n",
              "        1.35190957e-03, 1.37068609e-03, 1.37068609e-03, 1.38946262e-03,\n",
              "        1.38946262e-03, 1.40823914e-03, 1.40823914e-03, 1.42701566e-03,\n",
              "        1.42701566e-03, 1.44579218e-03, 1.44579218e-03, 1.46456870e-03,\n",
              "        1.46456870e-03, 1.48334523e-03, 1.48334523e-03, 1.50212175e-03,\n",
              "        1.50212175e-03, 1.52089827e-03, 1.52089827e-03, 1.53967479e-03,\n",
              "        1.53967479e-03, 1.55845131e-03, 1.55845131e-03, 1.57722783e-03,\n",
              "        1.57722783e-03, 1.59600436e-03, 1.59600436e-03, 1.61478088e-03,\n",
              "        1.61478088e-03, 1.63355740e-03, 1.63355740e-03, 1.65233392e-03,\n",
              "        1.65233392e-03, 1.67111044e-03, 1.67111044e-03, 1.68988697e-03,\n",
              "        1.68988697e-03, 1.70866349e-03, 1.70866349e-03, 1.72744001e-03,\n",
              "        1.72744001e-03, 1.74621653e-03, 1.74621653e-03, 1.78376957e-03,\n",
              "        1.78376957e-03, 1.82132262e-03, 1.82132262e-03, 1.84009914e-03,\n",
              "        1.84009914e-03, 1.89642871e-03, 1.89642871e-03, 1.91520523e-03,\n",
              "        1.91520523e-03, 1.93398175e-03, 1.93398175e-03, 1.95275827e-03,\n",
              "        1.95275827e-03, 1.97153479e-03, 1.97153479e-03, 1.99031131e-03,\n",
              "        1.99031131e-03, 2.00908784e-03, 2.00908784e-03, 2.02786436e-03,\n",
              "        2.02786436e-03, 2.04664088e-03, 2.04664088e-03, 2.06541740e-03,\n",
              "        2.06541740e-03, 2.08419392e-03, 2.08419392e-03, 2.10297045e-03,\n",
              "        2.10297045e-03, 2.12174697e-03, 2.12174697e-03, 2.14052349e-03,\n",
              "        2.14052349e-03, 2.15930001e-03, 2.15930001e-03, 2.19685305e-03,\n",
              "        2.19685305e-03, 2.21562958e-03, 2.21562958e-03, 2.25318262e-03,\n",
              "        2.25318262e-03, 2.27195914e-03, 2.27195914e-03, 2.30951219e-03,\n",
              "        2.30951219e-03, 2.32828871e-03, 2.32828871e-03, 2.34706523e-03,\n",
              "        2.34706523e-03, 2.36584175e-03, 2.36584175e-03, 2.38461827e-03,\n",
              "        2.38461827e-03, 2.40339480e-03, 2.40339480e-03, 2.42217132e-03,\n",
              "        2.42217132e-03, 2.44094784e-03, 2.44094784e-03, 2.45972436e-03,\n",
              "        2.45972436e-03, 2.47850088e-03, 2.47850088e-03, 2.49727740e-03,\n",
              "        2.49727740e-03, 2.51605393e-03, 2.51605393e-03, 2.53483045e-03,\n",
              "        2.53483045e-03, 2.55360697e-03, 2.55360697e-03, 2.59116001e-03,\n",
              "        2.59116001e-03, 2.60993654e-03, 2.60993654e-03, 2.62871306e-03,\n",
              "        2.62871306e-03, 2.64748958e-03, 2.64748958e-03, 2.68504262e-03,\n",
              "        2.68504262e-03, 2.70381914e-03, 2.70381914e-03, 2.72259567e-03,\n",
              "        2.72259567e-03, 2.74137219e-03, 2.74137219e-03, 2.77892523e-03,\n",
              "        2.77892523e-03, 2.83525480e-03, 2.83525480e-03, 2.85403132e-03,\n",
              "        2.85403132e-03, 2.87280784e-03, 2.87280784e-03, 2.89158436e-03,\n",
              "        2.89158436e-03, 2.92913741e-03, 2.92913741e-03, 2.94791393e-03,\n",
              "        2.94791393e-03, 2.96669045e-03, 2.96669045e-03, 3.00424349e-03,\n",
              "        3.00424349e-03, 3.02302002e-03, 3.02302002e-03, 3.04179654e-03,\n",
              "        3.04179654e-03, 3.06057306e-03, 3.06057306e-03, 3.09812610e-03,\n",
              "        3.09812610e-03, 3.11690262e-03, 3.11690262e-03, 3.13567915e-03,\n",
              "        3.13567915e-03, 3.15445567e-03, 3.15445567e-03, 3.17323219e-03,\n",
              "        3.17323219e-03, 3.19200871e-03, 3.19200871e-03, 3.21078523e-03,\n",
              "        3.21078523e-03, 3.24833828e-03, 3.24833828e-03, 3.26711480e-03,\n",
              "        3.26711480e-03, 3.30466784e-03, 3.30466784e-03, 3.34222089e-03,\n",
              "        3.34222089e-03, 3.36099741e-03, 3.36099741e-03, 3.37977393e-03,\n",
              "        3.37977393e-03, 3.39855045e-03, 3.39855045e-03, 3.41732697e-03,\n",
              "        3.41732697e-03, 3.43610350e-03, 3.43610350e-03, 3.47365654e-03,\n",
              "        3.47365654e-03, 3.49243306e-03, 3.49243306e-03, 3.51120958e-03,\n",
              "        3.51120958e-03, 3.52998611e-03, 3.52998611e-03, 3.62386871e-03,\n",
              "        3.62386871e-03, 3.66142176e-03, 3.66142176e-03, 3.68019828e-03,\n",
              "        3.68019828e-03, 3.71775132e-03, 3.71775132e-03, 3.77408089e-03,\n",
              "        3.77408089e-03, 3.83041045e-03, 3.83041045e-03, 3.84918698e-03,\n",
              "        3.84918698e-03, 3.90551654e-03, 3.90551654e-03, 3.96184611e-03,\n",
              "        3.96184611e-03, 3.98062263e-03, 3.98062263e-03, 4.01817567e-03,\n",
              "        4.01817567e-03, 4.03695219e-03, 4.03695219e-03, 4.07450524e-03,\n",
              "        4.07450524e-03, 4.09328176e-03, 4.09328176e-03, 4.11205828e-03,\n",
              "        4.11205828e-03, 4.16838785e-03, 4.16838785e-03, 4.24349394e-03,\n",
              "        4.24349394e-03, 4.26227046e-03, 4.26227046e-03, 4.28104698e-03,\n",
              "        4.28104698e-03, 4.35615307e-03, 4.35615307e-03, 4.37492959e-03,\n",
              "        4.37492959e-03, 4.39370611e-03, 4.39370611e-03, 4.43125915e-03,\n",
              "        4.43125915e-03, 4.45003568e-03, 4.45003568e-03, 4.46881220e-03,\n",
              "        4.46881220e-03, 4.50636524e-03, 4.50636524e-03, 4.52514176e-03,\n",
              "        4.52514176e-03, 4.54391828e-03, 4.54391828e-03, 4.58147133e-03,\n",
              "        4.58147133e-03, 4.65657742e-03, 4.65657742e-03, 4.69413046e-03,\n",
              "        4.69413046e-03, 4.73168350e-03, 4.73168350e-03, 4.75046002e-03,\n",
              "        4.75046002e-03, 4.76923655e-03, 4.76923655e-03, 4.86311916e-03,\n",
              "        4.86311916e-03, 4.88189568e-03, 4.88189568e-03, 4.90067220e-03,\n",
              "        4.90067220e-03, 4.91944872e-03, 4.91944872e-03, 4.93822524e-03,\n",
              "        4.93822524e-03, 4.95700176e-03, 4.95700176e-03, 4.97577829e-03,\n",
              "        4.97577829e-03, 5.06966090e-03, 5.06966090e-03, 5.08843742e-03,\n",
              "        5.08843742e-03, 5.16354351e-03, 5.16354351e-03, 5.21987307e-03,\n",
              "        5.21987307e-03, 5.35130872e-03, 5.35130872e-03, 5.37008525e-03,\n",
              "        5.37008525e-03, 5.40763829e-03, 5.40763829e-03, 5.57662699e-03,\n",
              "        5.57662699e-03, 5.61418003e-03, 5.61418003e-03, 5.82072177e-03,\n",
              "        5.82072177e-03, 5.87705134e-03, 5.87705134e-03, 5.95215742e-03,\n",
              "        5.95215742e-03, 6.00848699e-03, 6.00848699e-03, 6.08359308e-03,\n",
              "        6.08359308e-03, 6.10236960e-03, 6.10236960e-03, 6.15869916e-03,\n",
              "        6.15869916e-03, 6.17747568e-03, 6.17747568e-03, 6.19625221e-03,\n",
              "        6.19625221e-03, 6.21502873e-03, 6.21502873e-03, 6.27135829e-03,\n",
              "        6.27135829e-03, 6.30891134e-03, 6.30891134e-03, 6.32768786e-03,\n",
              "        6.32768786e-03, 6.49667656e-03, 6.49667656e-03, 6.59055916e-03,\n",
              "        6.59055916e-03, 6.68444177e-03, 6.68444177e-03, 6.87220699e-03,\n",
              "        6.87220699e-03, 6.89098351e-03, 6.89098351e-03, 6.94731308e-03,\n",
              "        6.94731308e-03, 7.09752525e-03, 7.09752525e-03, 7.17263134e-03,\n",
              "        7.17263134e-03, 7.24773743e-03, 7.24773743e-03, 7.37917308e-03,\n",
              "        7.37917308e-03, 7.41672613e-03, 7.41672613e-03, 7.47305569e-03,\n",
              "        7.47305569e-03, 7.52938526e-03, 7.52938526e-03, 7.54816178e-03,\n",
              "        7.54816178e-03, 7.56693830e-03, 7.56693830e-03, 7.67959743e-03,\n",
              "        7.67959743e-03, 7.71715048e-03, 7.71715048e-03, 7.75470352e-03,\n",
              "        7.75470352e-03, 7.86736265e-03, 7.86736265e-03, 8.16778700e-03,\n",
              "        8.16778700e-03, 8.33677570e-03, 8.33677570e-03, 8.39310526e-03,\n",
              "        8.39310526e-03, 8.43065830e-03, 8.43065830e-03, 8.50576439e-03,\n",
              "        8.50576439e-03, 8.54331744e-03, 8.54331744e-03, 8.56209396e-03,\n",
              "        8.56209396e-03, 8.76863570e-03, 8.76863570e-03, 8.84374179e-03,\n",
              "        8.84374179e-03, 8.91884787e-03, 8.91884787e-03, 8.93762439e-03,\n",
              "        8.93762439e-03, 9.05028353e-03, 9.05028353e-03, 9.21927222e-03,\n",
              "        9.21927222e-03, 9.29437831e-03, 9.29437831e-03, 9.50092005e-03,\n",
              "        9.50092005e-03, 9.74501483e-03, 9.74501483e-03, 9.82012092e-03,\n",
              "        9.82012092e-03, 9.95155657e-03, 9.95155657e-03, 9.97033310e-03,\n",
              "        9.97033310e-03, 9.98910962e-03, 9.98910962e-03, 1.00454392e-02,\n",
              "        1.00454392e-02, 1.05524053e-02, 1.05524053e-02, 1.05899583e-02,\n",
              "        1.05899583e-02, 1.07026174e-02, 1.07026174e-02, 1.09467122e-02,\n",
              "        1.09467122e-02, 1.09654888e-02, 1.09654888e-02, 1.10405948e-02,\n",
              "        1.10405948e-02, 1.10969244e-02, 1.10969244e-02, 1.13410192e-02,\n",
              "        1.13410192e-02, 1.15287844e-02, 1.15287844e-02, 1.16038905e-02,\n",
              "        1.16038905e-02, 1.16977731e-02, 1.16977731e-02, 1.17916557e-02,\n",
              "        1.17916557e-02, 1.18479853e-02, 1.18479853e-02, 1.19794209e-02,\n",
              "        1.19794209e-02, 1.20357505e-02, 1.20357505e-02, 1.20733035e-02,\n",
              "        1.20733035e-02, 1.22047392e-02, 1.22047392e-02, 1.22235157e-02,\n",
              "        1.22235157e-02, 1.26553757e-02, 1.26553757e-02, 1.27304818e-02,\n",
              "        1.27304818e-02, 1.28806940e-02, 1.28806940e-02, 1.32374479e-02,\n",
              "        1.32374479e-02, 1.33876601e-02, 1.33876601e-02, 1.35190957e-02,\n",
              "        1.35190957e-02, 1.41950505e-02, 1.41950505e-02, 1.44015922e-02,\n",
              "        1.44015922e-02, 1.54530775e-02, 1.54530775e-02, 1.55845131e-02,\n",
              "        1.55845131e-02, 1.56032896e-02, 1.56032896e-02, 1.61478088e-02,\n",
              "        1.61478088e-02, 1.63355740e-02, 1.63355740e-02, 1.69927523e-02,\n",
              "        1.69927523e-02, 1.71805175e-02, 1.71805175e-02, 1.77250366e-02,\n",
              "        1.77250366e-02, 1.78564723e-02, 1.78564723e-02, 1.79879079e-02,\n",
              "        1.79879079e-02, 1.81193436e-02, 1.81193436e-02, 1.81756731e-02,\n",
              "        1.81756731e-02, 1.82132262e-02, 1.82132262e-02, 1.82320027e-02,\n",
              "        1.82320027e-02, 1.84948740e-02, 1.84948740e-02, 1.85324271e-02,\n",
              "        1.85324271e-02, 1.89455105e-02, 1.89455105e-02, 1.92647114e-02,\n",
              "        1.92647114e-02, 1.97716775e-02, 1.97716775e-02, 2.05039618e-02,\n",
              "        2.05039618e-02, 2.05415149e-02, 2.05415149e-02, 2.05602914e-02,\n",
              "        2.05602914e-02, 2.14803410e-02, 2.14803410e-02, 2.18370949e-02,\n",
              "        2.18370949e-02, 2.20248601e-02, 2.20248601e-02, 2.25318262e-02,\n",
              "        2.25318262e-02, 2.26632619e-02, 2.26632619e-02, 2.26820384e-02,\n",
              "        2.26820384e-02, 2.28322506e-02, 2.28322506e-02, 2.29261332e-02,\n",
              "        2.29261332e-02, 2.30575688e-02, 2.30575688e-02, 2.39400653e-02,\n",
              "        2.39400653e-02, 2.41090540e-02, 2.41090540e-02, 2.44094784e-02,\n",
              "        2.44094784e-02, 2.47286793e-02, 2.47286793e-02, 2.56111758e-02,\n",
              "        2.56111758e-02, 2.62308010e-02, 2.62308010e-02, 2.63434601e-02,\n",
              "        2.63434601e-02, 2.67002141e-02, 2.67002141e-02, 2.72259567e-02,\n",
              "        2.72259567e-02, 2.77516993e-02, 2.77516993e-02, 2.93477036e-02,\n",
              "        2.93477036e-02, 2.93852567e-02, 2.93852567e-02, 2.94415862e-02,\n",
              "        2.94415862e-02, 2.97232341e-02, 2.97232341e-02, 2.99485523e-02,\n",
              "        2.99485523e-02, 3.08310489e-02, 3.08310489e-02, 3.12065793e-02,\n",
              "        3.12065793e-02, 3.18825341e-02, 3.18825341e-02, 3.19951932e-02,\n",
              "        3.19951932e-02, 3.21078523e-02, 3.21078523e-02, 3.28964663e-02,\n",
              "        3.28964663e-02, 3.44361410e-02, 3.44361410e-02, 3.81351159e-02,\n",
              "        3.81351159e-02, 3.87547411e-02, 3.87547411e-02, 3.88861767e-02,\n",
              "        3.88861767e-02, 3.93555898e-02, 3.93555898e-02, 3.94682489e-02,\n",
              "        3.94682489e-02, 4.11018063e-02, 4.11018063e-02, 4.15148898e-02,\n",
              "        4.15148898e-02, 4.35803072e-02, 4.35803072e-02, 4.41248263e-02,\n",
              "        4.41248263e-02, 4.44440272e-02, 4.44440272e-02, 4.78989072e-02,\n",
              "        4.78989072e-02, 4.91569342e-02, 4.91569342e-02, 4.93634759e-02,\n",
              "        4.93634759e-02, 5.00582072e-02, 5.00582072e-02, 5.12974577e-02,\n",
              "        5.12974577e-02, 5.24052724e-02, 5.24052724e-02, 5.85076420e-02,\n",
              "        5.85076420e-02, 5.85827481e-02, 5.85827481e-02, 6.01787525e-02,\n",
              "        6.01787525e-02, 6.27886890e-02, 6.27886890e-02, 6.32768786e-02,\n",
              "        6.32768786e-02, 6.44785760e-02, 6.44785760e-02, 6.51545308e-02,\n",
              "        6.51545308e-02, 6.58680386e-02, 6.58680386e-02, 6.67693117e-02,\n",
              "        6.67693117e-02, 6.73326073e-02, 6.73326073e-02, 7.01303091e-02,\n",
              "        7.01303091e-02, 7.03180743e-02, 7.03180743e-02, 7.15197717e-02,\n",
              "        7.15197717e-02, 7.16512073e-02, 7.16512073e-02, 7.31908821e-02,\n",
              "        7.31908821e-02, 7.35851891e-02, 7.35851891e-02, 8.19595178e-02,\n",
              "        8.19595178e-02, 8.98832100e-02, 8.98832100e-02, 9.08595892e-02,\n",
              "        9.08595892e-02, 9.20049570e-02, 9.20049570e-02, 9.22302753e-02,\n",
              "        9.22302753e-02, 9.35634083e-02, 9.35634083e-02, 9.57039318e-02,\n",
              "        9.57039318e-02, 9.75628075e-02, 9.75628075e-02, 9.86330692e-02,\n",
              "        9.86330692e-02, 1.00679710e-01, 1.00679710e-01, 1.01787525e-01,\n",
              "        1.01787525e-01, 1.05355064e-01, 1.05355064e-01, 1.15062526e-01,\n",
              "        1.15062526e-01, 1.20094634e-01, 1.20094634e-01, 1.25690037e-01,\n",
              "        1.25690037e-01, 1.29107364e-01, 1.29107364e-01, 1.29389012e-01,\n",
              "        1.29389012e-01, 1.35510158e-01, 1.35510158e-01, 1.42645236e-01,\n",
              "        1.42645236e-01, 1.45367832e-01, 1.45367832e-01, 1.65439934e-01,\n",
              "        1.65439934e-01, 1.77156484e-01, 1.77156484e-01, 1.80310939e-01,\n",
              "        1.80310939e-01, 1.84967517e-01, 1.84967517e-01, 2.03124413e-01,\n",
              "        2.03124413e-01, 2.03856698e-01, 2.03856698e-01, 2.07630778e-01,\n",
              "        2.07630778e-01, 2.15836119e-01, 2.15836119e-01, 2.17206805e-01,\n",
              "        2.17206805e-01, 2.17939089e-01, 2.17939089e-01, 2.25017838e-01,\n",
              "        2.25017838e-01, 2.31176537e-01, 2.31176537e-01, 2.45878553e-01,\n",
              "        2.45878553e-01, 2.69217770e-01, 2.69217770e-01, 2.73104510e-01,\n",
              "        2.73104510e-01, 2.94397086e-01, 2.94397086e-01, 2.98997334e-01,\n",
              "        2.98997334e-01, 3.67756957e-01, 3.67756957e-01, 4.30695858e-01,\n",
              "        4.30695858e-01, 5.46603327e-01, 5.46603327e-01, 5.58207218e-01,\n",
              "        5.58207218e-01, 6.37707011e-01, 6.37707011e-01, 6.90393931e-01,\n",
              "        6.90393931e-01, 1.00000000e+00]),\n",
              " array([0.00000000e+00, 1.48323939e-04, 2.66983091e-03, 2.66983091e-03,\n",
              "        4.42005340e-02, 4.42005340e-02, 7.01572234e-02, 7.01572234e-02,\n",
              "        8.38030258e-02, 8.38030258e-02, 8.60278849e-02, 8.60278849e-02,\n",
              "        1.76802136e-01, 1.76802136e-01, 2.01275586e-01, 2.01275586e-01,\n",
              "        3.17413230e-01, 3.17413230e-01, 3.72441412e-01, 3.72441412e-01,\n",
              "        4.31770988e-01, 4.31770988e-01, 4.37852269e-01, 4.37852269e-01,\n",
              "        4.50163156e-01, 4.50163156e-01, 4.75526550e-01, 4.75526550e-01,\n",
              "        5.34707802e-01, 5.34707802e-01, 5.42568971e-01, 5.42568971e-01,\n",
              "        5.63482646e-01, 5.63482646e-01, 5.71343815e-01, 5.71343815e-01,\n",
              "        5.86176209e-01, 5.86176209e-01, 5.95817265e-01, 5.95817265e-01,\n",
              "        5.95965589e-01, 5.95965589e-01, 6.03233462e-01, 6.03233462e-01,\n",
              "        6.03530110e-01, 6.03530110e-01, 6.38534559e-01, 6.38534559e-01,\n",
              "        6.64639573e-01, 6.64639573e-01, 6.67309404e-01, 6.67309404e-01,\n",
              "        6.73687333e-01, 6.73687333e-01, 6.78433699e-01, 6.78433699e-01,\n",
              "        6.83773361e-01, 6.83773361e-01, 6.93414417e-01, 6.93414417e-01,\n",
              "        6.97122516e-01, 6.97122516e-01, 7.02017206e-01, 7.02017206e-01,\n",
              "        7.18332839e-01, 7.18332839e-01, 7.38653219e-01, 7.38653219e-01,\n",
              "        7.46069416e-01, 7.46069416e-01, 7.47107683e-01, 7.47107683e-01,\n",
              "        7.56452091e-01, 7.56452091e-01, 7.65648176e-01, 7.65648176e-01,\n",
              "        7.68762978e-01, 7.68762978e-01, 7.73805992e-01, 7.73805992e-01,\n",
              "        7.79887274e-01, 7.79887274e-01, 7.84040344e-01, 7.84040344e-01,\n",
              "        7.84188668e-01, 7.84188668e-01, 7.92939780e-01, 7.92939780e-01,\n",
              "        7.96647879e-01, 7.96647879e-01, 7.97834470e-01, 7.97834470e-01,\n",
              "        8.02284189e-01, 8.02284189e-01, 8.07475527e-01, 8.07475527e-01,\n",
              "        8.14446752e-01, 8.14446752e-01, 8.16078315e-01, 8.16078315e-01,\n",
              "        8.20824681e-01, 8.20824681e-01, 8.24236132e-01, 8.24236132e-01,\n",
              "        8.28092554e-01, 8.28092554e-01, 8.32690596e-01, 8.32690596e-01,\n",
              "        8.33283892e-01, 8.33283892e-01, 8.37288638e-01, 8.37288638e-01,\n",
              "        8.43221596e-01, 8.43221596e-01, 8.45298131e-01, 8.45298131e-01,\n",
              "        8.45594779e-01, 8.45594779e-01, 8.46484723e-01, 8.46484723e-01,\n",
              "        8.51082765e-01, 8.51082765e-01, 8.52862652e-01, 8.52862652e-01,\n",
              "        8.56274103e-01, 8.56274103e-01, 8.57905666e-01, 8.57905666e-01,\n",
              "        8.60278849e-01, 8.60278849e-01, 8.61465441e-01, 8.61465441e-01,\n",
              "        8.61762088e-01, 8.61762088e-01, 8.65025215e-01, 8.65025215e-01,\n",
              "        8.66063483e-01, 8.66063483e-01, 8.66805102e-01, 8.66805102e-01,\n",
              "        8.67398398e-01, 8.67398398e-01, 8.69178285e-01, 8.69178285e-01,\n",
              "        8.70661525e-01, 8.70661525e-01, 8.74072975e-01, 8.74072975e-01,\n",
              "        8.76742806e-01, 8.76742806e-01, 8.80450905e-01, 8.80450905e-01,\n",
              "        8.83565708e-01, 8.83565708e-01, 8.85642243e-01, 8.85642243e-01,\n",
              "        8.86087214e-01, 8.86087214e-01, 8.92020172e-01, 8.92020172e-01,\n",
              "        8.92465144e-01, 8.92465144e-01, 8.92613468e-01, 8.92613468e-01,\n",
              "        8.93948383e-01, 8.93948383e-01, 8.95134975e-01, 8.95134975e-01,\n",
              "        8.96618214e-01, 8.96618214e-01, 8.98546425e-01, 8.98546425e-01,\n",
              "        8.99584693e-01, 8.99584693e-01, 9.01067932e-01, 9.01067932e-01,\n",
              "        9.01661228e-01, 9.01661228e-01, 9.01809552e-01, 9.01809552e-01,\n",
              "        9.02106200e-01, 9.02106200e-01, 9.02551172e-01, 9.02551172e-01,\n",
              "        9.04034411e-01, 9.04034411e-01, 9.04331059e-01, 9.04331059e-01,\n",
              "        9.05072679e-01, 9.05072679e-01, 9.06259270e-01, 9.06259270e-01,\n",
              "        9.07297538e-01, 9.07297538e-01, 9.07890834e-01, 9.07890834e-01,\n",
              "        9.08039158e-01, 9.08039158e-01, 9.08187481e-01, 9.08187481e-01,\n",
              "        9.09967369e-01, 9.09967369e-01, 9.10560664e-01, 9.10560664e-01,\n",
              "        9.11450608e-01, 9.11450608e-01, 9.12340552e-01, 9.12340552e-01,\n",
              "        9.13972115e-01, 9.13972115e-01, 9.14268763e-01, 9.14268763e-01,\n",
              "        9.14565411e-01, 9.14565411e-01, 9.15158707e-01, 9.15158707e-01,\n",
              "        9.16938594e-01, 9.16938594e-01, 9.18125185e-01, 9.18125185e-01,\n",
              "        9.19608425e-01, 9.19608425e-01, 9.22426580e-01, 9.22426580e-01,\n",
              "        9.22871551e-01, 9.22871551e-01, 9.23316523e-01, 9.23316523e-01,\n",
              "        9.23761495e-01, 9.23761495e-01, 9.24799763e-01, 9.24799763e-01,\n",
              "        9.25096411e-01, 9.25096411e-01, 9.25986354e-01, 9.25986354e-01,\n",
              "        9.26283002e-01, 9.26283002e-01, 9.26431326e-01, 9.26431326e-01,\n",
              "        9.26727974e-01, 9.26727974e-01, 9.27172946e-01, 9.27172946e-01,\n",
              "        9.28211213e-01, 9.28211213e-01, 9.29101157e-01, 9.29101157e-01,\n",
              "        9.29546129e-01, 9.29546129e-01, 9.30139425e-01, 9.30139425e-01,\n",
              "        9.31029368e-01, 9.31029368e-01, 9.31177692e-01, 9.31177692e-01,\n",
              "        9.31770988e-01, 9.31770988e-01, 9.32215960e-01, 9.32215960e-01,\n",
              "        9.34440819e-01, 9.34440819e-01, 9.34589143e-01, 9.34589143e-01,\n",
              "        9.34737467e-01, 9.34737467e-01, 9.34885791e-01, 9.34885791e-01,\n",
              "        9.35182438e-01, 9.35182438e-01, 9.35775734e-01, 9.35775734e-01,\n",
              "        9.36072382e-01, 9.36072382e-01, 9.37407298e-01, 9.37407298e-01,\n",
              "        9.37555621e-01, 9.37555621e-01, 9.37703945e-01, 9.37703945e-01,\n",
              "        9.37852269e-01, 9.37852269e-01, 9.38890537e-01, 9.38890537e-01,\n",
              "        9.39632157e-01, 9.39632157e-01, 9.39928805e-01, 9.39928805e-01,\n",
              "        9.40077128e-01, 9.40077128e-01, 9.40373776e-01, 9.40373776e-01,\n",
              "        9.40818748e-01, 9.40818748e-01, 9.41115396e-01, 9.41115396e-01,\n",
              "        9.41263720e-01, 9.41263720e-01, 9.41708692e-01, 9.41708692e-01,\n",
              "        9.42005340e-01, 9.42005340e-01, 9.42153664e-01, 9.42153664e-01,\n",
              "        9.42895283e-01, 9.42895283e-01, 9.43636903e-01, 9.43636903e-01,\n",
              "        9.44971818e-01, 9.44971818e-01, 9.47345001e-01, 9.47345001e-01,\n",
              "        9.47641649e-01, 9.47641649e-01, 9.47789973e-01, 9.47789973e-01,\n",
              "        9.48086621e-01, 9.48086621e-01, 9.48531593e-01, 9.48531593e-01,\n",
              "        9.48828241e-01, 9.48828241e-01, 9.49273213e-01, 9.49273213e-01,\n",
              "        9.49421537e-01, 9.49421537e-01, 9.49718185e-01, 9.49718185e-01,\n",
              "        9.50014832e-01, 9.50014832e-01, 9.50459804e-01, 9.50459804e-01,\n",
              "        9.51646396e-01, 9.51646396e-01, 9.51794720e-01, 9.51794720e-01,\n",
              "        9.51943044e-01, 9.51943044e-01, 9.52091368e-01, 9.52091368e-01,\n",
              "        9.52239691e-01, 9.52239691e-01, 9.52388015e-01, 9.52388015e-01,\n",
              "        9.52832987e-01, 9.52832987e-01, 9.52981311e-01, 9.52981311e-01,\n",
              "        9.53277959e-01, 9.53277959e-01, 9.53871255e-01, 9.53871255e-01,\n",
              "        9.54019579e-01, 9.54019579e-01, 9.54167903e-01, 9.54167903e-01,\n",
              "        9.54316227e-01, 9.54316227e-01, 9.54909522e-01, 9.54909522e-01,\n",
              "        9.55354494e-01, 9.55354494e-01, 9.55799466e-01, 9.55799466e-01,\n",
              "        9.56096114e-01, 9.56096114e-01, 9.56244438e-01, 9.56244438e-01,\n",
              "        9.56541086e-01, 9.56541086e-01, 9.56837734e-01, 9.56837734e-01,\n",
              "        9.57282705e-01, 9.57282705e-01, 9.57579353e-01, 9.57579353e-01,\n",
              "        9.57727677e-01, 9.57727677e-01, 9.57876001e-01, 9.57876001e-01,\n",
              "        9.58024325e-01, 9.58024325e-01, 9.58172649e-01, 9.58172649e-01,\n",
              "        9.58469297e-01, 9.58469297e-01, 9.58617621e-01, 9.58617621e-01,\n",
              "        9.58765945e-01, 9.58765945e-01, 9.59062593e-01, 9.59062593e-01,\n",
              "        9.59359241e-01, 9.59359241e-01, 9.59507565e-01, 9.59507565e-01,\n",
              "        9.59655888e-01, 9.59655888e-01, 9.59952536e-01, 9.59952536e-01,\n",
              "        9.60397508e-01, 9.60397508e-01, 9.60545832e-01, 9.60545832e-01,\n",
              "        9.60694156e-01, 9.60694156e-01, 9.60842480e-01, 9.60842480e-01,\n",
              "        9.60990804e-01, 9.60990804e-01, 9.61139128e-01, 9.61139128e-01,\n",
              "        9.61435776e-01, 9.61435776e-01, 9.61584100e-01, 9.61584100e-01,\n",
              "        9.61880748e-01, 9.61880748e-01, 9.62029071e-01, 9.62029071e-01,\n",
              "        9.62177395e-01, 9.62177395e-01, 9.62474043e-01, 9.62474043e-01,\n",
              "        9.62622367e-01, 9.62622367e-01, 9.62919015e-01, 9.62919015e-01,\n",
              "        9.63215663e-01, 9.63215663e-01, 9.63363987e-01, 9.63363987e-01,\n",
              "        9.63512311e-01, 9.63512311e-01, 9.63808959e-01, 9.63808959e-01,\n",
              "        9.63957283e-01, 9.63957283e-01, 9.64105607e-01, 9.64105607e-01,\n",
              "        9.64698902e-01, 9.64698902e-01, 9.64847226e-01, 9.64847226e-01,\n",
              "        9.65143874e-01, 9.65143874e-01, 9.65292198e-01, 9.65292198e-01,\n",
              "        9.65440522e-01, 9.65440522e-01, 9.65588846e-01, 9.65588846e-01,\n",
              "        9.65737170e-01, 9.65737170e-01, 9.65885494e-01, 9.65885494e-01,\n",
              "        9.66182142e-01, 9.66182142e-01, 9.66330466e-01, 9.66330466e-01,\n",
              "        9.66775438e-01, 9.66775438e-01, 9.67220409e-01, 9.67220409e-01,\n",
              "        9.67368733e-01, 9.67368733e-01, 9.67517057e-01, 9.67517057e-01,\n",
              "        9.67813705e-01, 9.67813705e-01, 9.67962029e-01, 9.67962029e-01,\n",
              "        9.68703649e-01, 9.68703649e-01, 9.68851973e-01, 9.68851973e-01,\n",
              "        9.69148621e-01, 9.69148621e-01, 9.69445268e-01, 9.69445268e-01,\n",
              "        9.69593592e-01, 9.69593592e-01, 9.69741916e-01, 9.69741916e-01,\n",
              "        9.69890240e-01, 9.69890240e-01, 9.70038564e-01, 9.70038564e-01,\n",
              "        9.70186888e-01, 9.70186888e-01, 9.70335212e-01, 9.70335212e-01,\n",
              "        9.70483536e-01, 9.70483536e-01, 9.70631860e-01, 9.70631860e-01,\n",
              "        9.70780184e-01, 9.70780184e-01, 9.70928508e-01, 9.70928508e-01,\n",
              "        9.71076832e-01, 9.71076832e-01, 9.71966775e-01, 9.71966775e-01,\n",
              "        9.72115099e-01, 9.72115099e-01, 9.72263423e-01, 9.72263423e-01,\n",
              "        9.72411747e-01, 9.72411747e-01, 9.72560071e-01, 9.72560071e-01,\n",
              "        9.73153367e-01, 9.73153367e-01, 9.73301691e-01, 9.73301691e-01,\n",
              "        9.73450015e-01, 9.73450015e-01, 9.73598339e-01, 9.73598339e-01,\n",
              "        9.73746663e-01, 9.73746663e-01, 9.73894987e-01, 9.73894987e-01,\n",
              "        9.74191635e-01, 9.74191635e-01, 9.74488282e-01, 9.74488282e-01,\n",
              "        9.74636606e-01, 9.74636606e-01, 9.74784930e-01, 9.74784930e-01,\n",
              "        9.75081578e-01, 9.75081578e-01, 9.75229902e-01, 9.75229902e-01,\n",
              "        9.75378226e-01, 9.75378226e-01, 9.75526550e-01, 9.75526550e-01,\n",
              "        9.75674874e-01, 9.75674874e-01, 9.75823198e-01, 9.75823198e-01,\n",
              "        9.75971522e-01, 9.75971522e-01, 9.76119846e-01, 9.76119846e-01,\n",
              "        9.76268170e-01, 9.76268170e-01, 9.76564818e-01, 9.76564818e-01,\n",
              "        9.76713142e-01, 9.76713142e-01, 9.76861465e-01, 9.76861465e-01,\n",
              "        9.77009789e-01, 9.77009789e-01, 9.77158113e-01, 9.77158113e-01,\n",
              "        9.77306437e-01, 9.77306437e-01, 9.77454761e-01, 9.77454761e-01,\n",
              "        9.77603085e-01, 9.77603085e-01, 9.78048057e-01, 9.78048057e-01,\n",
              "        9.78196381e-01, 9.78196381e-01, 9.78344705e-01, 9.78344705e-01,\n",
              "        9.78493029e-01, 9.78493029e-01, 9.78641353e-01, 9.78641353e-01,\n",
              "        9.78789677e-01, 9.78789677e-01, 9.79086325e-01, 9.79086325e-01,\n",
              "        9.79382972e-01, 9.79382972e-01, 9.79531296e-01, 9.79531296e-01,\n",
              "        9.79679620e-01, 9.79679620e-01, 9.79827944e-01, 9.79827944e-01,\n",
              "        9.80124592e-01, 9.80124592e-01, 9.80421240e-01, 9.80421240e-01,\n",
              "        9.80569564e-01, 9.80569564e-01, 9.80717888e-01, 9.80717888e-01,\n",
              "        9.80866212e-01, 9.80866212e-01, 9.81014536e-01, 9.81014536e-01,\n",
              "        9.81162860e-01, 9.81162860e-01, 9.81311184e-01, 9.81311184e-01,\n",
              "        9.81459508e-01, 9.81459508e-01, 9.81607832e-01, 9.81607832e-01,\n",
              "        9.81756155e-01, 9.81756155e-01, 9.81904479e-01, 9.81904479e-01,\n",
              "        9.82052803e-01, 9.82052803e-01, 9.82201127e-01, 9.82201127e-01,\n",
              "        9.82349451e-01, 9.82349451e-01, 9.82497775e-01, 9.82497775e-01,\n",
              "        9.82646099e-01, 9.82646099e-01, 9.82794423e-01, 9.82794423e-01,\n",
              "        9.82942747e-01, 9.82942747e-01, 9.83091071e-01, 9.83091071e-01,\n",
              "        9.83239395e-01, 9.83239395e-01, 9.83387719e-01, 9.83387719e-01,\n",
              "        9.83536043e-01, 9.83536043e-01, 9.83684367e-01, 9.83684367e-01,\n",
              "        9.83832691e-01, 9.83832691e-01, 9.83981015e-01, 9.83981015e-01,\n",
              "        9.84129338e-01, 9.84129338e-01, 9.84277662e-01, 9.84277662e-01,\n",
              "        9.84425986e-01, 9.84425986e-01, 9.84574310e-01, 9.84574310e-01,\n",
              "        9.84722634e-01, 9.84722634e-01, 9.84870958e-01, 9.84870958e-01,\n",
              "        9.85019282e-01, 9.85019282e-01, 9.85167606e-01, 9.85167606e-01,\n",
              "        9.85315930e-01, 9.85315930e-01, 9.85612578e-01, 9.85612578e-01,\n",
              "        9.85760902e-01, 9.85760902e-01, 9.85909226e-01, 9.85909226e-01,\n",
              "        9.86057550e-01, 9.86057550e-01, 9.86205874e-01, 9.86205874e-01,\n",
              "        9.86502522e-01, 9.86502522e-01, 9.86650845e-01, 9.86650845e-01,\n",
              "        9.86799169e-01, 9.86799169e-01, 9.86947493e-01, 9.86947493e-01,\n",
              "        9.87095817e-01, 9.87095817e-01, 9.87244141e-01, 9.87244141e-01,\n",
              "        9.87392465e-01, 9.87392465e-01, 9.87540789e-01, 9.87540789e-01,\n",
              "        9.87689113e-01, 9.87689113e-01, 9.87837437e-01, 9.87837437e-01,\n",
              "        9.87985761e-01, 9.87985761e-01, 9.88134085e-01, 9.88134085e-01,\n",
              "        9.88282409e-01, 9.88282409e-01, 9.88430733e-01, 9.88430733e-01,\n",
              "        9.88579057e-01, 9.88579057e-01, 9.88727381e-01, 9.88727381e-01,\n",
              "        9.88875705e-01, 9.88875705e-01, 9.89172352e-01, 9.89172352e-01,\n",
              "        9.89320676e-01, 9.89320676e-01, 9.89469000e-01, 9.89469000e-01,\n",
              "        9.89617324e-01, 9.89617324e-01, 9.89765648e-01, 9.89765648e-01,\n",
              "        9.89913972e-01, 9.89913972e-01, 9.90062296e-01, 9.90062296e-01,\n",
              "        9.90210620e-01, 9.90210620e-01, 9.90358944e-01, 9.90358944e-01,\n",
              "        9.90507268e-01, 9.90507268e-01, 9.90655592e-01, 9.90655592e-01,\n",
              "        9.90803916e-01, 9.90803916e-01, 9.90952240e-01, 9.90952240e-01,\n",
              "        9.91100564e-01, 9.91100564e-01, 9.91248888e-01, 9.91248888e-01,\n",
              "        9.91397212e-01, 9.91397212e-01, 9.91545535e-01, 9.91545535e-01,\n",
              "        9.91693859e-01, 9.91693859e-01, 9.91842183e-01, 9.91842183e-01,\n",
              "        9.91990507e-01, 9.91990507e-01, 9.92138831e-01, 9.92138831e-01,\n",
              "        9.92287155e-01, 9.92287155e-01, 9.92435479e-01, 9.92435479e-01,\n",
              "        9.92583803e-01, 9.92583803e-01, 9.92732127e-01, 9.92732127e-01,\n",
              "        9.92880451e-01, 9.92880451e-01, 9.93028775e-01, 9.93028775e-01,\n",
              "        9.93177099e-01, 9.93177099e-01, 9.93325423e-01, 9.93325423e-01,\n",
              "        9.93473747e-01, 9.93473747e-01, 9.93622071e-01, 9.93622071e-01,\n",
              "        9.93770395e-01, 9.93770395e-01, 9.93918718e-01, 9.93918718e-01,\n",
              "        9.94067042e-01, 9.94067042e-01, 9.94215366e-01, 9.94215366e-01,\n",
              "        9.94363690e-01, 9.94363690e-01, 9.94512014e-01, 9.94512014e-01,\n",
              "        9.94660338e-01, 9.94660338e-01, 9.94808662e-01, 9.94808662e-01,\n",
              "        9.94956986e-01, 9.94956986e-01, 9.95105310e-01, 9.95105310e-01,\n",
              "        9.95253634e-01, 9.95253634e-01, 9.95401958e-01, 9.95401958e-01,\n",
              "        9.95550282e-01, 9.95550282e-01, 9.95698606e-01, 9.95698606e-01,\n",
              "        9.95846930e-01, 9.95846930e-01, 9.95995254e-01, 9.95995254e-01,\n",
              "        9.96143578e-01, 9.96143578e-01, 9.96291902e-01, 9.96291902e-01,\n",
              "        9.96440225e-01, 9.96440225e-01, 9.96588549e-01, 9.96588549e-01,\n",
              "        9.96736873e-01, 9.96736873e-01, 9.96885197e-01, 9.96885197e-01,\n",
              "        9.97033521e-01, 9.97033521e-01, 9.97181845e-01, 9.97181845e-01,\n",
              "        9.97330169e-01, 9.97330169e-01, 9.97478493e-01, 9.97478493e-01,\n",
              "        9.97626817e-01, 9.97626817e-01, 9.97775141e-01, 9.97775141e-01,\n",
              "        9.97923465e-01, 9.97923465e-01, 9.98071789e-01, 9.98071789e-01,\n",
              "        9.98220113e-01, 9.98220113e-01, 9.98368437e-01, 9.98368437e-01,\n",
              "        9.98516761e-01, 9.98516761e-01, 9.98665085e-01, 9.98665085e-01,\n",
              "        9.98813408e-01, 9.98813408e-01, 9.98961732e-01, 9.98961732e-01,\n",
              "        9.99110056e-01, 9.99110056e-01, 9.99258380e-01, 9.99258380e-01,\n",
              "        9.99406704e-01, 9.99406704e-01, 9.99555028e-01, 9.99555028e-01,\n",
              "        9.99703352e-01, 9.99703352e-01, 9.99851676e-01, 9.99851676e-01,\n",
              "        1.00000000e+00, 1.00000000e+00]),\n",
              " array([ 1.25129898e+01,  1.15129898e+01,  9.62421302e+00,  9.55370261e+00,\n",
              "         7.44897551e+00,  7.44678909e+00,  7.06444387e+00,  7.06439536e+00,\n",
              "         6.89863107e+00,  6.89801004e+00,  6.88521629e+00,  6.88488585e+00,\n",
              "         6.11599070e+00,  6.11461681e+00,  5.96236069e+00,  5.96188658e+00,\n",
              "         5.33130800e+00,  5.33122123e+00,  5.05809402e+00,  5.05751981e+00,\n",
              "         4.77382411e+00,  4.77374892e+00,  4.74590882e+00,  4.74567483e+00,\n",
              "         4.69582207e+00,  4.69535605e+00,  4.58232845e+00,  4.58203848e+00,\n",
              "         4.31410159e+00,  4.31333854e+00,  4.28478002e+00,  4.28293580e+00,\n",
              "         4.18831100e+00,  4.18776072e+00,  4.14571942e+00,  4.14544013e+00,\n",
              "         4.07231813e+00,  4.07219343e+00,  4.02597472e+00,  4.02591616e+00,\n",
              "         4.02564983e+00,  4.02444598e+00,  3.98935404e+00,  3.98922091e+00,\n",
              "         3.98818225e+00,  3.98725908e+00,  3.82563258e+00,  3.82500343e+00,\n",
              "         3.68959980e+00,  3.68952534e+00,  3.68105879e+00,  3.68092753e+00,\n",
              "         3.65225806e+00,  3.65075909e+00,  3.62536248e+00,  3.62480531e+00,\n",
              "         3.60090607e+00,  3.60019793e+00,  3.55358681e+00,  3.55325593e+00,\n",
              "         3.53665373e+00,  3.53633889e+00,  3.50798456e+00,  3.50739849e+00,\n",
              "         3.41495873e+00,  3.41319311e+00,  3.31312361e+00,  3.31126298e+00,\n",
              "         3.26561846e+00,  3.26475332e+00,  3.26033645e+00,  3.26012913e+00,\n",
              "         3.21367598e+00,  3.21262376e+00,  3.15028747e+00,  3.14873198e+00,\n",
              "         3.13210461e+00,  3.13021388e+00,  3.10392394e+00,  3.10326807e+00,\n",
              "         3.06020482e+00,  3.06003459e+00,  3.03209630e+00,  3.03079560e+00,\n",
              "         3.02952887e+00,  3.02949859e+00,  2.96323485e+00,  2.96206059e+00,\n",
              "         2.93417482e+00,  2.93202035e+00,  2.91935712e+00,  2.91877013e+00,\n",
              "         2.88670287e+00,  2.88657281e+00,  2.85147328e+00,  2.84963098e+00,\n",
              "         2.80353947e+00,  2.80312800e+00,  2.79399152e+00,  2.79262819e+00,\n",
              "         2.76237257e+00,  2.75886859e+00,  2.73687895e+00,  2.73563019e+00,\n",
              "         2.70649469e+00,  2.70616813e+00,  2.66524294e+00,  2.66489365e+00,\n",
              "         2.65385591e+00,  2.65238243e+00,  2.61036759e+00,  2.60807306e+00,\n",
              "         2.54949380e+00,  2.54944217e+00,  2.52916598e+00,  2.52847084e+00,\n",
              "         2.52763097e+00,  2.52694482e+00,  2.52247990e+00,  2.52223184e+00,\n",
              "         2.48527007e+00,  2.48523569e+00,  2.46555782e+00,  2.46377707e+00,\n",
              "         2.44053331e+00,  2.44038216e+00,  2.42232077e+00,  2.41997786e+00,\n",
              "         2.39130304e+00,  2.39080767e+00,  2.37534131e+00,  2.37470659e+00,\n",
              "         2.37203830e+00,  2.37181550e+00,  2.35048554e+00,  2.34935690e+00,\n",
              "         2.34516375e+00,  2.34478234e+00,  2.33661855e+00,  2.33654616e+00,\n",
              "         2.33232620e+00,  2.33037474e+00,  2.30853363e+00,  2.30496457e+00,\n",
              "         2.28572368e+00,  2.28185822e+00,  2.24101781e+00,  2.24088306e+00,\n",
              "         2.21617085e+00,  2.21520631e+00,  2.16676945e+00,  2.16429686e+00,\n",
              "         2.13370749e+00,  2.13274557e+00,  2.11040511e+00,  2.10873067e+00,\n",
              "         2.10141569e+00,  2.10014756e+00,  2.04899666e+00,  2.04783818e+00,\n",
              "         2.04304760e+00,  2.04293134e+00,  2.04271116e+00,  2.04081030e+00,\n",
              "         2.03211631e+00,  2.03184921e+00,  2.01750272e+00,  2.01569572e+00,\n",
              "         1.99139810e+00,  1.98848678e+00,  1.95553413e+00,  1.95127300e+00,\n",
              "         1.93558171e+00,  1.93215725e+00,  1.91120266e+00,  1.90842889e+00,\n",
              "         1.90046645e+00,  1.89782709e+00,  1.89561348e+00,  1.89456538e+00,\n",
              "         1.89332259e+00,  1.89262947e+00,  1.88250024e+00,  1.88125307e+00,\n",
              "         1.85970567e+00,  1.85925493e+00,  1.85839791e+00,  1.85719048e+00,\n",
              "         1.84665246e+00,  1.84116370e+00,  1.82452181e+00,  1.82143191e+00,\n",
              "         1.80540598e+00,  1.80289864e+00,  1.80059520e+00,  1.80028744e+00,\n",
              "         1.79721387e+00,  1.79692815e+00,  1.79540930e+00,  1.79062431e+00,\n",
              "         1.76916768e+00,  1.76828576e+00,  1.76056222e+00,  1.76009050e+00,\n",
              "         1.75221115e+00,  1.75003925e+00,  1.74115735e+00,  1.73955621e+00,\n",
              "         1.71251289e+00,  1.71169258e+00,  1.70978595e+00,  1.70824217e+00,\n",
              "         1.69817048e+00,  1.69758055e+00,  1.69387256e+00,  1.69134636e+00,\n",
              "         1.66359726e+00,  1.66298847e+00,  1.64797286e+00,  1.64250098e+00,\n",
              "         1.59944106e+00,  1.59778464e+00,  1.54752582e+00,  1.54329036e+00,\n",
              "         1.53287227e+00,  1.53225155e+00,  1.52710781e+00,  1.52655865e+00,\n",
              "         1.51708109e+00,  1.51628858e+00,  1.49871305e+00,  1.49245041e+00,\n",
              "         1.48470234e+00,  1.48201285e+00,  1.47222486e+00,  1.47045054e+00,\n",
              "         1.46211183e+00,  1.46202150e+00,  1.46077424e+00,  1.46041663e+00,\n",
              "         1.45981145e+00,  1.45649355e+00,  1.44418403e+00,  1.44255399e+00,\n",
              "         1.42445734e+00,  1.42285915e+00,  1.41050555e+00,  1.40804935e+00,\n",
              "         1.39014435e+00,  1.38401748e+00,  1.37136326e+00,  1.36857604e+00,\n",
              "         1.34698922e+00,  1.34506161e+00,  1.34178629e+00,  1.33977712e+00,\n",
              "         1.33265799e+00,  1.32966741e+00,  1.32487720e+00,  1.31903760e+00,\n",
              "         1.27422187e+00,  1.27354728e+00,  1.26949068e+00,  1.26783522e+00,\n",
              "         1.26646431e+00,  1.26555892e+00,  1.26024976e+00,  1.25768145e+00,\n",
              "         1.25598991e+00,  1.24973697e+00,  1.23525386e+00,  1.22571109e+00,\n",
              "         1.22183249e+00,  1.21007065e+00,  1.18250142e+00,  1.17937038e+00,\n",
              "         1.17843649e+00,  1.17020526e+00,  1.16694477e+00,  1.15926967e+00,\n",
              "         1.15339116e+00,  1.15112618e+00,  1.13204825e+00,  1.12301423e+00,\n",
              "         1.11548044e+00,  1.11401274e+00,  1.10987937e+00,  1.10531074e+00,\n",
              "         1.10489380e+00,  1.10298174e+00,  1.10214442e+00,  1.09911290e+00,\n",
              "         1.09562040e+00,  1.08317882e+00,  1.07975823e+00,  1.07874396e+00,\n",
              "         1.07421771e+00,  1.07231579e+00,  1.06190905e+00,  1.06115577e+00,\n",
              "         1.05503093e+00,  1.05417752e+00,  1.04617482e+00,  1.04432279e+00,\n",
              "         1.03550338e+00,  1.02310412e+00,  9.99712388e-01,  9.97834573e-01,\n",
              "         9.62495964e-01,  9.51596392e-01,  9.19561076e-01,  9.17220317e-01,\n",
              "         9.02121280e-01,  8.92871724e-01,  8.91131646e-01,  8.80432628e-01,\n",
              "         8.76187899e-01,  8.59002227e-01,  8.45717043e-01,  8.42853185e-01,\n",
              "         8.28175828e-01,  8.27930352e-01,  8.26742353e-01,  8.25657968e-01,\n",
              "         8.23776673e-01,  8.23542325e-01,  8.17322089e-01,  7.90269755e-01,\n",
              "         7.85030002e-01,  7.81190707e-01,  7.76002544e-01,  7.74921643e-01,\n",
              "         7.41692638e-01,  7.31988643e-01,  7.27857656e-01,  7.16889446e-01,\n",
              "         7.11854875e-01,  7.09802718e-01,  7.07614351e-01,  6.97195069e-01,\n",
              "         6.91021625e-01,  6.86319355e-01,  6.82761002e-01,  6.49184846e-01,\n",
              "         6.43991765e-01,  6.38678359e-01,  6.34622315e-01,  6.27757998e-01,\n",
              "         6.24829403e-01,  6.12671337e-01,  5.86291713e-01,  5.75676481e-01,\n",
              "         5.73408809e-01,  5.72146351e-01,  5.69968507e-01,  5.63304743e-01,\n",
              "         5.62718263e-01,  5.59143025e-01,  5.29555685e-01,  5.18522076e-01,\n",
              "         4.89967297e-01,  4.85964731e-01,  4.61357464e-01,  4.59345790e-01,\n",
              "         4.54310029e-01,  4.38427255e-01,  4.33237816e-01,  4.17655790e-01,\n",
              "         4.06722894e-01,  3.98838789e-01,  3.94178012e-01,  3.92586396e-01,\n",
              "         3.77567202e-01,  3.67700807e-01,  3.57068889e-01,  3.53757703e-01,\n",
              "         3.53275215e-01,  3.52405236e-01,  3.49645175e-01,  3.40963023e-01,\n",
              "         3.37701715e-01,  3.35964369e-01,  3.35066041e-01,  3.33938084e-01,\n",
              "         3.28351952e-01,  3.13765739e-01,  3.13652672e-01,  3.10346745e-01,\n",
              "         3.05502073e-01,  3.02428265e-01,  2.96568221e-01,  2.80844454e-01,\n",
              "         2.77182728e-01,  2.55222350e-01,  2.51708208e-01,  2.50220287e-01,\n",
              "         2.46217989e-01,  2.41856586e-01,  2.30331353e-01,  2.26033546e-01,\n",
              "         2.14124628e-01,  2.11506705e-01,  1.98888958e-01,  1.55214543e-01,\n",
              "         1.54305012e-01,  1.53366242e-01,  1.52040493e-01,  1.51756498e-01,\n",
              "         1.50555740e-01,  1.50014286e-01,  1.44587754e-01,  1.43067716e-01,\n",
              "         1.34057653e-01,  1.33001100e-01,  1.28171538e-01,  1.26424970e-01,\n",
              "         1.20851048e-01,  1.13626737e-01,  1.12440406e-01,  1.09993283e-01,\n",
              "         1.06897748e-01,  8.20614139e-02,  7.37932766e-02,  5.78793976e-02,\n",
              "         4.72564677e-02,  1.07185281e-02,  2.62117934e-03,  2.05016699e-03,\n",
              "        -3.09974784e-03, -6.44936039e-03, -8.86859580e-03, -4.59638204e-02,\n",
              "        -4.62582591e-02, -6.59363362e-02, -7.48681134e-02, -1.17137468e-01,\n",
              "        -1.24235232e-01, -1.28332372e-01, -1.30085703e-01, -1.40978377e-01,\n",
              "        -1.51737557e-01, -1.65308242e-01, -1.65553877e-01, -1.75268088e-01,\n",
              "        -1.85169588e-01, -1.87128634e-01, -1.90790835e-01, -2.21505130e-01,\n",
              "        -2.24691074e-01, -2.29749923e-01, -2.34767875e-01, -2.37369954e-01,\n",
              "        -2.38971410e-01, -2.39629299e-01, -2.43386824e-01, -2.54148754e-01,\n",
              "        -2.56027721e-01, -2.59625409e-01, -2.60484225e-01, -2.61146047e-01,\n",
              "        -2.78529811e-01, -2.98523223e-01, -3.07310246e-01, -3.26542044e-01,\n",
              "        -3.31028688e-01, -3.60180721e-01, -3.61415554e-01, -4.05576163e-01,\n",
              "        -4.11448224e-01, -4.14234280e-01, -4.16125011e-01, -4.25294523e-01,\n",
              "        -4.39047741e-01, -4.95565094e-01, -5.05607380e-01, -5.11263625e-01,\n",
              "        -5.18300383e-01, -5.41776853e-01, -5.44002091e-01, -5.74245789e-01,\n",
              "        -5.76971716e-01, -5.82463222e-01, -5.85151941e-01, -5.89501118e-01,\n",
              "        -5.92386071e-01, -6.14297660e-01, -6.17469959e-01, -6.21702547e-01,\n",
              "        -6.21755754e-01, -6.24843804e-01, -6.29909145e-01, -6.61638068e-01,\n",
              "        -6.75229127e-01, -6.80637876e-01, -6.82560769e-01, -6.84990627e-01,\n",
              "        -6.88074614e-01, -7.07123881e-01, -7.17151857e-01, -7.85228694e-01,\n",
              "        -7.88750948e-01, -8.03894212e-01, -8.16979301e-01, -8.24219094e-01,\n",
              "        -8.27115958e-01, -8.34233103e-01, -8.34945688e-01, -8.44402598e-01,\n",
              "        -8.45324358e-01, -8.46545267e-01, -8.50291330e-01, -8.51420763e-01,\n",
              "        -8.59078812e-01, -9.04736481e-01, -9.10149523e-01, -9.23301253e-01,\n",
              "        -9.34947893e-01, -9.50128577e-01, -9.59409147e-01, -9.62766538e-01,\n",
              "        -9.68998505e-01, -9.93758446e-01, -9.97704108e-01, -1.01806042e+00,\n",
              "        -1.02176394e+00, -1.04101311e+00, -1.06472199e+00, -1.11847877e+00,\n",
              "        -1.12256691e+00, -1.17530730e+00, -1.17809972e+00, -1.18196298e+00,\n",
              "        -1.18913300e+00, -1.20839619e+00, -1.21756579e+00, -1.21972273e+00,\n",
              "        -1.22237025e+00, -1.22453366e+00, -1.22619715e+00, -1.23033454e+00,\n",
              "        -1.23408592e+00, -1.32455859e+00, -1.32532869e+00, -1.32601267e+00,\n",
              "        -1.32611855e+00, -1.35239215e+00, -1.35953941e+00, -1.41229355e+00,\n",
              "        -1.41861721e+00, -1.41914022e+00, -1.42163421e+00, -1.44194261e+00,\n",
              "        -1.44250994e+00, -1.44615442e+00, -1.44748417e+00, -1.47795420e+00,\n",
              "        -1.47807228e+00, -1.50441207e+00, -1.50949955e+00, -1.51740980e+00,\n",
              "        -1.51753155e+00, -1.53118383e+00, -1.53303200e+00, -1.55455638e+00,\n",
              "        -1.55640901e+00, -1.56595327e+00, -1.57201047e+00, -1.59224346e+00,\n",
              "        -1.59413429e+00, -1.60480023e+00, -1.60631335e+00, -1.60753681e+00,\n",
              "        -1.61191085e+00, -1.62952473e+00, -1.63045062e+00, -1.63157726e+00,\n",
              "        -1.63289138e+00, -1.70546729e+00, -1.71182584e+00, -1.71991746e+00,\n",
              "        -1.73325180e+00, -1.75213746e+00, -1.75311243e+00, -1.78727526e+00,\n",
              "        -1.78913026e+00, -1.80890016e+00, -1.81512469e+00, -1.82912630e+00,\n",
              "        -1.83242531e+00, -1.95221499e+00, -1.95662407e+00, -1.97874468e+00,\n",
              "        -1.98192857e+00, -2.11303775e+00, -2.11424389e+00, -2.14175276e+00,\n",
              "        -2.14412163e+00, -2.14541257e+00, -2.14659971e+00, -2.21502948e+00,\n",
              "        -2.21718382e+00, -2.24133412e+00, -2.24151346e+00, -2.33987191e+00,\n",
              "        -2.34026759e+00, -2.37863634e+00, -2.38784209e+00, -2.44937346e+00,\n",
              "        -2.45312460e+00, -2.47455621e+00, -2.47568291e+00, -2.48587069e+00,\n",
              "        -2.48657050e+00, -2.50654277e+00, -2.50829465e+00, -2.51568511e+00,\n",
              "        -2.51593587e+00, -2.51932289e+00, -2.51946533e+00, -2.52163994e+00,\n",
              "        -2.52441354e+00, -2.55377824e+00, -2.55450469e+00, -2.55881264e+00,\n",
              "        -2.56091482e+00, -2.62094074e+00, -2.62135959e+00, -2.64313926e+00,\n",
              "        -2.64911076e+00, -2.70451047e+00, -2.70531801e+00, -2.78501574e+00,\n",
              "        -2.78786993e+00, -2.79041001e+00, -2.79129562e+00, -2.79321930e+00,\n",
              "        -2.79627522e+00, -2.89360253e+00, -2.89625926e+00, -2.94007252e+00,\n",
              "        -2.94480389e+00, -2.96683437e+00, -2.97603247e+00, -3.01778367e+00,\n",
              "        -3.01815941e+00, -3.04378275e+00, -3.04731604e+00, -3.04742746e+00,\n",
              "        -3.04784288e+00, -3.06142619e+00, -3.06339072e+00, -3.07151408e+00,\n",
              "        -3.07296793e+00, -3.08869861e+00, -3.08930148e+00, -3.16950339e+00,\n",
              "        -3.17182950e+00, -3.18937269e+00, -3.19144071e+00, -3.21962326e+00,\n",
              "        -3.22083036e+00, -3.24550631e+00, -3.24608030e+00, -3.36652359e+00,\n",
              "        -3.36935519e+00, -3.42141485e+00, -3.42320423e+00, -3.43638419e+00,\n",
              "        -3.43749098e+00, -3.48284598e+00, -3.48480178e+00, -3.51625982e+00,\n",
              "        -3.51832623e+00, -3.56037403e+00, -3.56690075e+00, -3.69255338e+00,\n",
              "        -3.69527059e+00, -3.70066513e+00, -3.70110412e+00, -3.70435855e+00,\n",
              "        -3.70714281e+00, -3.73143192e+00, -3.73352759e+00, -3.75263439e+00,\n",
              "        -3.75383098e+00, -3.82914270e+00, -3.83003525e+00, -3.85538015e+00,\n",
              "        -3.85849240e+00, -3.91579888e+00, -3.91594841e+00, -3.92434085e+00,\n",
              "        -3.92850397e+00, -3.94368191e+00, -3.94380535e+00, -4.00096277e+00,\n",
              "        -4.00368299e+00, -4.11573068e+00, -4.11587582e+00, -4.39942176e+00,\n",
              "        -4.40082375e+00, -4.44799176e+00, -4.45044470e+00, -4.45447332e+00,\n",
              "        -4.45581823e+00, -4.49849868e+00, -4.49871408e+00, -4.50897366e+00,\n",
              "        -4.51242523e+00, -4.63259571e+00, -4.63428366e+00, -4.66197629e+00,\n",
              "        -4.66430916e+00, -4.80956342e+00, -4.81011052e+00, -4.83590230e+00,\n",
              "        -4.83848248e+00, -4.85785089e+00, -4.85785297e+00, -5.07025486e+00,\n",
              "        -5.07083061e+00, -5.14797418e+00, -5.14878156e+00, -5.16495163e+00,\n",
              "        -5.16953992e+00, -5.22770067e+00, -5.22775030e+00, -5.32210884e+00,\n",
              "        -5.32281197e+00, -5.39785207e+00, -5.39865825e+00, -5.73237233e+00,\n",
              "        -5.73410208e+00, -5.73565642e+00, -5.73626190e+00, -5.82979737e+00,\n",
              "        -5.83044902e+00, -5.96210409e+00, -5.96224430e+00, -5.99206883e+00,\n",
              "        -5.99399564e+00, -6.05775792e+00, -6.05782712e+00, -6.08043748e+00,\n",
              "        -6.08052633e+00, -6.11250886e+00, -6.11276430e+00, -6.15789739e+00,\n",
              "        -6.15946198e+00, -6.18549198e+00, -6.18572948e+00, -6.33776767e+00,\n",
              "        -6.33807050e+00, -6.35147688e+00, -6.35264515e+00, -6.41128883e+00,\n",
              "        -6.41138380e+00, -6.41855823e+00, -6.41911978e+00, -6.48169147e+00,\n",
              "        -6.48179888e+00, -6.49854584e+00, -6.49862755e+00, -6.88903693e+00,\n",
              "        -6.88909841e+00, -7.21396193e+00, -7.21412730e+00, -7.25904402e+00,\n",
              "        -7.26009770e+00, -7.31295750e+00, -7.31422200e+00, -7.32903075e+00,\n",
              "        -7.32956356e+00, -7.37480930e+00, -7.37588228e+00, -7.46203966e+00,\n",
              "        -7.46242475e+00, -7.53992927e+00, -7.54038037e+00, -7.57990727e+00,\n",
              "        -7.58081962e+00, -7.65615136e+00, -7.65733421e+00, -7.70587504e+00,\n",
              "        -7.70602061e+00, -7.84574079e+00, -7.84665860e+00, -8.22361506e+00,\n",
              "        -8.22528381e+00, -8.42803967e+00, -8.42878265e+00, -8.62048803e+00,\n",
              "        -8.62264607e+00, -8.73861386e+00, -8.73940261e+00, -8.75021874e+00,\n",
              "        -8.75058641e+00, -8.94249922e+00, -8.94320226e+00, -9.17419251e+00,\n",
              "        -9.17455784e+00, -9.25973471e+00, -9.25987420e+00, -9.86004100e+00,\n",
              "        -9.86010513e+00, -1.02074714e+01, -1.02077046e+01, -1.03042529e+01,\n",
              "        -1.03044073e+01, -1.04493464e+01, -1.04508417e+01, -1.09774617e+01,\n",
              "        -1.09777047e+01, -1.09990660e+01, -1.10010539e+01, -1.11218565e+01,\n",
              "        -1.11219147e+01, -1.13321848e+01, -1.13323716e+01, -1.13674294e+01,\n",
              "        -1.13676929e+01, -1.13832997e+01, -1.13838023e+01, -1.15619922e+01,\n",
              "        -1.15627498e+01, -1.17243168e+01, -1.17244292e+01, -1.20934698e+01,\n",
              "        -1.20943535e+01, -1.26817053e+01, -1.26820213e+01, -1.27716589e+01,\n",
              "        -1.27723240e+01, -1.33153543e+01, -1.33155157e+01, -1.34245328e+01,\n",
              "        -1.34246385e+01, -1.50045163e+01, -1.50058153e+01, -1.64702920e+01,\n",
              "        -1.64708211e+01, -1.93475573e+01, -1.93480085e+01, -1.96315458e+01,\n",
              "        -1.96316751e+01, -2.17461310e+01, -2.17464151e+01, -2.32785081e+01,\n",
              "        -2.32788314e+01, -6.73465341e+01]))"
            ]
          },
          "metadata": {
            "tags": []
          },
          "execution_count": 316
        }
      ]
    },
    {
      "cell_type": "code",
      "metadata": {
        "id": "HPnKuxbZO2ly",
        "colab_type": "code",
        "colab": {
          "base_uri": "https://localhost:8080/",
          "height": 300
        },
        "outputId": "7ccf3409-2be8-445c-d6d4-17a0c7b121c4"
      },
      "source": [
        "plt.plot(fpr , tpr , threshold)\n",
        "plt.plot([0,1] ,[0,1] , \"k--\")\n",
        "plt.axis([0,1,0,1] )\n",
        "plt.xlabel('fpr')\n",
        "plt.ylabel('TPR')"
      ],
      "execution_count": 317,
      "outputs": [
        {
          "output_type": "execute_result",
          "data": {
            "text/plain": [
              "Text(0, 0.5, 'TPR')"
            ]
          },
          "metadata": {
            "tags": []
          },
          "execution_count": 317
        },
        {
          "output_type": "display_data",
          "data": {
            "image/png": "[encoded data removed]",
            "text/plain": [
              "<Figure size 432x288 with 1 Axes>"
            ]
          },
          "metadata": {
            "tags": [],
            "needs_background": "light"
          }
        }
      ]
    },
    {
      "cell_type": "code",
      "metadata": {
        "id": "p5e2OxWIO4di",
        "colab_type": "code",
        "colab": {
          "base_uri": "https://localhost:8080/",
          "height": 34
        },
        "outputId": "840b6450-38d0-4448-e3ef-ef981ac42ce8"
      },
      "source": [
        "\n",
        "from sklearn.metrics import roc_auc_score\n",
        "\n",
        "roc_auc_score(y_train_1, y_scores)"
      ],
      "execution_count": 318,
      "outputs": [
        {
          "output_type": "execute_result",
          "data": {
            "text/plain": [
              "0.997515232850204"
            ]
          },
          "metadata": {
            "tags": []
          },
          "execution_count": 318
        }
      ]
    },
    {
      "cell_type": "code",
      "metadata": {
        "id": "2KYAyACdQu54",
        "colab_type": "code",
        "colab": {
          "base_uri": "https://localhost:8080/",
          "height": 153
        },
        "outputId": "12f2be7d-c6ad-4bc2-bace-80d7c6bf7633"
      },
      "source": [
        "from sklearn.ensemble import RandomForestClassifier\n",
        "model_1 = RandomForestClassifier()\n",
        "model_1.fit(X_train , y_train_1)"
      ],
      "execution_count": 273,
      "outputs": [
        {
          "output_type": "execute_result",
          "data": {
            "text/plain": [
              "RandomForestClassifier(bootstrap=True, ccp_alpha=0.0, class_weight=None,\n",
              "                       criterion='gini', max_depth=None, max_features='auto',\n",
              "                       max_leaf_nodes=None, max_samples=None,\n",
              "                       min_impurity_decrease=0.0, min_impurity_split=None,\n",
              "                       min_samples_leaf=1, min_samples_split=2,\n",
              "                       min_weight_fraction_leaf=0.0, n_estimators=100,\n",
              "                       n_jobs=None, oob_score=False, random_state=None,\n",
              "                       verbose=0, warm_start=False)"
            ]
          },
          "metadata": {
            "tags": []
          },
          "execution_count": 273
        }
      ]
    },
    {
      "cell_type": "code",
      "metadata": {
        "id": "x6Vr6fTqgS65",
        "colab_type": "code",
        "colab": {}
      },
      "source": [
        "y_proba_forest = cross_val_predict(model_1 , X_train , y_train_1 , cv =3 , method='predict_proba')"
      ],
      "execution_count": 319,
      "outputs": []
    },
    {
      "cell_type": "code",
      "metadata": {
        "id": "TZjjouXAgpe1",
        "colab_type": "code",
        "colab": {
          "base_uri": "https://localhost:8080/",
          "height": 136
        },
        "outputId": "e5c7b75d-e36e-4e79-ea3d-e375e216ef6b"
      },
      "source": [
        "y_proba_forest"
      ],
      "execution_count": 320,
      "outputs": [
        {
          "output_type": "execute_result",
          "data": {
            "text/plain": [
              "array([[1.  , 0.  ],\n",
              "       [1.  , 0.  ],\n",
              "       [0.99, 0.01],\n",
              "       ...,\n",
              "       [1.  , 0.  ],\n",
              "       [0.99, 0.01],\n",
              "       [0.99, 0.01]])"
            ]
          },
          "metadata": {
            "tags": []
          },
          "execution_count": 320
        }
      ]
    },
    {
      "cell_type": "code",
      "metadata": {
        "id": "P2FRjg7liNuc",
        "colab_type": "code",
        "colab": {}
      },
      "source": [
        "y_scores_forest = y_proba_forest[: , 1]\n",
        "fpr_forest , tpr_forest , threshold_forest = roc_curve(y_train_1 , y_scores_forest)"
      ],
      "execution_count": 321,
      "outputs": []
    },
    {
      "cell_type": "code",
      "metadata": {
        "id": "GHIiZCRkjoXT",
        "colab_type": "code",
        "colab": {
          "base_uri": "https://localhost:8080/",
          "height": 459
        },
        "outputId": "5618e0a7-e447-48cc-e1d5-e105cafc49b6"
      },
      "source": [
        "fpr_forest"
      ],
      "execution_count": 333,
      "outputs": [
        {
          "output_type": "execute_result",
          "data": {
            "text/plain": [
              "array([0.00000000e+00, 0.00000000e+00, 0.00000000e+00, 0.00000000e+00,\n",
              "       0.00000000e+00, 0.00000000e+00, 0.00000000e+00, 0.00000000e+00,\n",
              "       0.00000000e+00, 0.00000000e+00, 0.00000000e+00, 0.00000000e+00,\n",
              "       0.00000000e+00, 0.00000000e+00, 0.00000000e+00, 1.87765218e-05,\n",
              "       1.87765218e-05, 1.87765218e-05, 1.87765218e-05, 3.75530437e-05,\n",
              "       3.75530437e-05, 3.75530437e-05, 3.75530437e-05, 5.63295655e-05,\n",
              "       5.63295655e-05, 7.51060873e-05, 9.38826092e-05, 9.38826092e-05,\n",
              "       9.38826092e-05, 9.38826092e-05, 1.12659131e-04, 1.31435653e-04,\n",
              "       1.68988697e-04, 1.68988697e-04, 1.87765218e-04, 1.87765218e-04,\n",
              "       2.25318262e-04, 2.25318262e-04, 2.25318262e-04, 2.25318262e-04,\n",
              "       2.25318262e-04, 2.25318262e-04, 2.62871306e-04, 3.00424349e-04,\n",
              "       3.37977393e-04, 3.56753915e-04, 3.75530437e-04, 3.75530437e-04,\n",
              "       4.13083480e-04, 4.31860002e-04, 4.31860002e-04, 4.69413046e-04,\n",
              "       5.06966090e-04, 6.38401742e-04, 7.13507830e-04, 7.69837395e-04,\n",
              "       9.20049570e-04, 9.57602614e-04, 1.01393218e-03, 1.10781479e-03,\n",
              "       1.14536783e-03, 1.29558001e-03, 1.42701566e-03, 1.52089827e-03,\n",
              "       1.63355740e-03, 1.70866349e-03, 1.84009914e-03, 1.85887566e-03,\n",
              "       2.02786436e-03, 2.36584175e-03, 2.53483045e-03, 2.60993654e-03,\n",
              "       2.81647828e-03, 3.07934958e-03, 3.28589132e-03, 3.45488002e-03,\n",
              "       3.68019828e-03, 4.01817567e-03, 4.48758872e-03, 4.86311916e-03,\n",
              "       5.50152090e-03, 6.13992264e-03, 6.70321830e-03, 7.56693830e-03,\n",
              "       8.28044613e-03, 9.12538961e-03, 1.01956514e-02, 1.14912314e-02,\n",
              "       1.29933531e-02, 1.49836644e-02, 1.71992940e-02, 2.00157723e-02,\n",
              "       2.33204401e-02, 2.79019114e-02, 3.38165158e-02, 4.17214315e-02,\n",
              "       5.36445229e-02, 7.18765256e-02, 1.03120658e-01, 1.65158286e-01,\n",
              "       3.17961621e-01, 1.00000000e+00])"
            ]
          },
          "metadata": {
            "tags": []
          },
          "execution_count": 333
        }
      ]
    },
    {
      "cell_type": "code",
      "metadata": {
        "id": "oADa7MojjQYC",
        "colab_type": "code",
        "colab": {
          "base_uri": "https://localhost:8080/",
          "height": 34
        },
        "outputId": "4d1104d9-7d3b-46ed-e591-3084cc77ff13"
      },
      "source": [
        "from sklearn.metrics import roc_auc_score\n",
        "roc_auc_score(y_train_1 , y_scores_forest)"
      ],
      "execution_count": 334,
      "outputs": [
        {
          "output_type": "execute_result",
          "data": {
            "text/plain": [
              "0.9992842404914741"
            ]
          },
          "metadata": {
            "tags": []
          },
          "execution_count": 334
        }
      ]
    },
    {
      "cell_type": "code",
      "metadata": {
        "id": "onN4S_qalqEF",
        "colab_type": "code",
        "colab": {
          "base_uri": "https://localhost:8080/",
          "height": 119
        },
        "outputId": "1634ae02-7cd0-481c-afd7-27a6ba58e3fa"
      },
      "source": [
        "model.fit(X_train ,y_train)"
      ],
      "execution_count": 335,
      "outputs": [
        {
          "output_type": "execute_result",
          "data": {
            "text/plain": [
              "SGDClassifier(alpha=0.0001, average=False, class_weight=None,\n",
              "              early_stopping=False, epsilon=0.1, eta0=0.0, fit_intercept=True,\n",
              "              l1_ratio=0.15, learning_rate='optimal', loss='hinge', max_iter=5,\n",
              "              n_iter_no_change=5, n_jobs=None, penalty='l2', power_t=0.5,\n",
              "              random_state=42, shuffle=True, tol=-inf, validation_fraction=0.1,\n",
              "              verbose=0, warm_start=False)"
            ]
          },
          "metadata": {
            "tags": []
          },
          "execution_count": 335
        }
      ]
    },
    {
      "cell_type": "code",
      "metadata": {
        "id": "_hod_-_pl7TS",
        "colab_type": "code",
        "colab": {
          "base_uri": "https://localhost:8080/",
          "height": 34
        },
        "outputId": "5e992b59-9318-4a66-ade6-0db6a2963c22"
      },
      "source": [
        "model.predict([some_digit])"
      ],
      "execution_count": 336,
      "outputs": [
        {
          "output_type": "execute_result",
          "data": {
            "text/plain": [
              "array([1])"
            ]
          },
          "metadata": {
            "tags": []
          },
          "execution_count": 336
        }
      ]
    },
    {
      "cell_type": "code",
      "metadata": {
        "id": "8diSgw2JmBvT",
        "colab_type": "code",
        "colab": {}
      },
      "source": [
        "some_digits_score = model.decision_function([some_digit])"
      ],
      "execution_count": 337,
      "outputs": []
    },
    {
      "cell_type": "code",
      "metadata": {
        "id": "FgjNQE5LmVrd",
        "colab_type": "code",
        "colab": {
          "base_uri": "https://localhost:8080/",
          "height": 68
        },
        "outputId": "d2befc79-5557-4de5-95a7-57afd5106a48"
      },
      "source": [
        "some_digits_score"
      ],
      "execution_count": 338,
      "outputs": [
        {
          "output_type": "execute_result",
          "data": {
            "text/plain": [
              "array([[-48.10332615,   5.68911187,  -4.21316262,  -2.24988114,\n",
              "        -12.9086839 ,  -5.54725069,  -6.10960891,  -5.52391009,\n",
              "        -14.14103808,  -5.50038582]])"
            ]
          },
          "metadata": {
            "tags": []
          },
          "execution_count": 338
        }
      ]
    },
    {
      "cell_type": "code",
      "metadata": {
        "id": "ulD_cQAAmdNi",
        "colab_type": "code",
        "colab": {}
      },
      "source": [
        "import numpy as np"
      ],
      "execution_count": 339,
      "outputs": []
    },
    {
      "cell_type": "code",
      "metadata": {
        "id": "Tk0rPztjmjyC",
        "colab_type": "code",
        "colab": {
          "base_uri": "https://localhost:8080/",
          "height": 34
        },
        "outputId": "d86244e0-022b-494d-8732-3e9981bff638"
      },
      "source": [
        "np.argmax(some_digits_score)"
      ],
      "execution_count": 340,
      "outputs": [
        {
          "output_type": "execute_result",
          "data": {
            "text/plain": [
              "1"
            ]
          },
          "metadata": {
            "tags": []
          },
          "execution_count": 340
        }
      ]
    },
    {
      "cell_type": "code",
      "metadata": {
        "id": "nY316KOFnrnv",
        "colab_type": "code",
        "colab": {
          "base_uri": "https://localhost:8080/",
          "height": 34
        },
        "outputId": "f2a2d970-b0cf-42c8-9c6b-2d10b4c9c459"
      },
      "source": [
        "from sklearn.multiclass import OneVsOneClassifier\n",
        "ono_clf = OneVsOneClassifier(SGDClassifier(random_state=0))\n",
        "ono_clf.fit(X_train , y_train)\n",
        "ono_clf.predict([some_digit])"
      ],
      "execution_count": 341,
      "outputs": [
        {
          "output_type": "execute_result",
          "data": {
            "text/plain": [
              "array([1])"
            ]
          },
          "metadata": {
            "tags": []
          },
          "execution_count": 341
        }
      ]
    },
    {
      "cell_type": "code",
      "metadata": {
        "id": "aLwAPf2MoVWE",
        "colab_type": "code",
        "colab": {
          "base_uri": "https://localhost:8080/",
          "height": 34
        },
        "outputId": "0e2cf2e3-cec4-4af0-fcef-03f23b3a7280"
      },
      "source": [
        "len(ono_clf.estimators_)"
      ],
      "execution_count": 342,
      "outputs": [
        {
          "output_type": "execute_result",
          "data": {
            "text/plain": [
              "45"
            ]
          },
          "metadata": {
            "tags": []
          },
          "execution_count": 342
        }
      ]
    },
    {
      "cell_type": "code",
      "metadata": {
        "id": "BlHE_eqrpiAu",
        "colab_type": "code",
        "colab": {
          "base_uri": "https://localhost:8080/",
          "height": 153
        },
        "outputId": "a83cd4c1-836d-4267-c50a-1e9bc17cbe29"
      },
      "source": [
        "model_1.fit(X_train ,y_train)"
      ],
      "execution_count": 346,
      "outputs": [
        {
          "output_type": "execute_result",
          "data": {
            "text/plain": [
              "RandomForestClassifier(bootstrap=True, ccp_alpha=0.0, class_weight=None,\n",
              "                       criterion='gini', max_depth=None, max_features='auto',\n",
              "                       max_leaf_nodes=None, max_samples=None,\n",
              "                       min_impurity_decrease=0.0, min_impurity_split=None,\n",
              "                       min_samples_leaf=1, min_samples_split=2,\n",
              "                       min_weight_fraction_leaf=0.0, n_estimators=100,\n",
              "                       n_jobs=None, oob_score=False, random_state=None,\n",
              "                       verbose=0, warm_start=False)"
            ]
          },
          "metadata": {
            "tags": []
          },
          "execution_count": 346
        }
      ]
    },
    {
      "cell_type": "code",
      "metadata": {
        "id": "kTtqw7nao-5T",
        "colab_type": "code",
        "colab": {
          "base_uri": "https://localhost:8080/",
          "height": 34
        },
        "outputId": "8ebceda9-2bb1-483d-a7b8-cd96328b98a5"
      },
      "source": [
        "model_1.predict([some_digit])"
      ],
      "execution_count": 347,
      "outputs": [
        {
          "output_type": "execute_result",
          "data": {
            "text/plain": [
              "array([1])"
            ]
          },
          "metadata": {
            "tags": []
          },
          "execution_count": 347
        }
      ]
    },
    {
      "cell_type": "code",
      "metadata": {
        "id": "gpHfBUgGpJR7",
        "colab_type": "code",
        "colab": {
          "base_uri": "https://localhost:8080/",
          "height": 34
        },
        "outputId": "0b37c79e-dcbf-40cb-93d1-f49bffd164a4"
      },
      "source": [
        "model_1.predict_proba([some_digit])"
      ],
      "execution_count": 348,
      "outputs": [
        {
          "output_type": "execute_result",
          "data": {
            "text/plain": [
              "array([[0., 1., 0., 0., 0., 0., 0., 0., 0., 0.]])"
            ]
          },
          "metadata": {
            "tags": []
          },
          "execution_count": 348
        }
      ]
    },
    {
      "cell_type": "code",
      "metadata": {
        "id": "-WUVixgTqurn",
        "colab_type": "code",
        "colab": {
          "base_uri": "https://localhost:8080/",
          "height": 34
        },
        "outputId": "8794a744-e4aa-40ca-9a27-5304575aab81"
      },
      "source": [
        "cross_val_score(model_1 , X_train , y_train , cv =3 , scoring='accuracy')"
      ],
      "execution_count": 349,
      "outputs": [
        {
          "output_type": "execute_result",
          "data": {
            "text/plain": [
              "array([0.9663, 0.9629, 0.9673])"
            ]
          },
          "metadata": {
            "tags": []
          },
          "execution_count": 349
        }
      ]
    },
    {
      "cell_type": "code",
      "metadata": {
        "id": "5APvsR92rIMq",
        "colab_type": "code",
        "colab": {}
      },
      "source": [
        "from sklearn.preprocessing import StandardScaler\n",
        "scaler = StandardScaler()\n",
        "X_train = scaler.fit_transform(X_train.astype(np.float64))"
      ],
      "execution_count": 351,
      "outputs": []
    },
    {
      "cell_type": "code",
      "metadata": {
        "id": "x5JHsAgksbta",
        "colab_type": "code",
        "colab": {
          "base_uri": "https://localhost:8080/",
          "height": 34
        },
        "outputId": "a71c5158-5269-4cac-8694-db30fadcfc26"
      },
      "source": [
        "cross_val_score(model_1 , X_train , y_train , scoring='accuracy' , cv =3)"
      ],
      "execution_count": 352,
      "outputs": [
        {
          "output_type": "execute_result",
          "data": {
            "text/plain": [
              "array([0.9648, 0.9637, 0.9671])"
            ]
          },
          "metadata": {
            "tags": []
          },
          "execution_count": 352
        }
      ]
    },
    {
      "cell_type": "code",
      "metadata": {
        "id": "zqfo2pdYswoK",
        "colab_type": "code",
        "colab": {
          "base_uri": "https://localhost:8080/",
          "height": 34
        },
        "outputId": "390ea768-0f94-4dad-d07a-853a986325b7"
      },
      "source": [
        "cross_val_predict(model_1 , X_train , y_train , cv = 3 , method='predict')"
      ],
      "execution_count": 353,
      "outputs": [
        {
          "output_type": "execute_result",
          "data": {
            "text/plain": [
              "array([5, 0, 4, ..., 5, 6, 8])"
            ]
          },
          "metadata": {
            "tags": []
          },
          "execution_count": 353
        }
      ]
    },
    {
      "cell_type": "code",
      "metadata": {
        "id": "fk5JtUehtb05",
        "colab_type": "code",
        "colab": {}
      },
      "source": [
        "from sklearn.metrics import confusion_matrix\n",
        "cm_mat = confusion_matrix(y_train , y_train_predict)"
      ],
      "execution_count": 356,
      "outputs": []
    },
    {
      "cell_type": "code",
      "metadata": {
        "id": "t4gtpI1dt_gA",
        "colab_type": "code",
        "colab": {
          "base_uri": "https://localhost:8080/",
          "height": 187
        },
        "outputId": "acf51d0e-a3e1-4bd8-b156-813237a1cb2b"
      },
      "source": [
        "cm_mat"
      ],
      "execution_count": 357,
      "outputs": [
        {
          "output_type": "execute_result",
          "data": {
            "text/plain": [
              "array([[5920,    3,    0,    0,    0,    0,    0,    0,    0,    0],\n",
              "       [6725,   17,    0,    0,    0,    0,    0,    0,    0,    0],\n",
              "       [5916,   42,    0,    0,    0,    0,    0,    0,    0,    0],\n",
              "       [6029,  102,    0,    0,    0,    0,    0,    0,    0,    0],\n",
              "       [5574,  268,    0,    0,    0,    0,    0,    0,    0,    0],\n",
              "       [5347,   74,    0,    0,    0,    0,    0,    0,    0,    0],\n",
              "       [5915,    3,    0,    0,    0,    0,    0,    0,    0,    0],\n",
              "       [5694,  571,    0,    0,    0,    0,    0,    0,    0,    0],\n",
              "       [5761,   90,    0,    0,    0,    0,    0,    0,    0,    0],\n",
              "       [1470, 4479,    0,    0,    0,    0,    0,    0,    0,    0]])"
            ]
          },
          "metadata": {
            "tags": []
          },
          "execution_count": 357
        }
      ]
    },
    {
      "cell_type": "code",
      "metadata": {
        "id": "1no8lUYwuBA7",
        "colab_type": "code",
        "colab": {
          "base_uri": "https://localhost:8080/",
          "height": 500
        },
        "outputId": "5bf6d942-3e0b-425a-bdc4-8bac057ce525"
      },
      "source": [
        "plt.figure(figsize=(8,8))\n",
        "import seaborn as sns\n",
        "sns.heatmap(cm_mat , annot = True)"
      ],
      "execution_count": 361,
      "outputs": [
        {
          "output_type": "execute_result",
          "data": {
            "text/plain": [
              "<matplotlib.axes._subplots.AxesSubplot at 0x7f7814d76e10>"
            ]
          },
          "metadata": {
            "tags": []
          },
          "execution_count": 361
        },
        {
          "output_type": "display_data",
          "data": {
            "image/png": "[encoded data removed]",
            "text/plain": [
              "<Figure size 576x576 with 2 Axes>"
            ]
          },
          "metadata": {
            "tags": [],
            "needs_background": "light"
          }
        }
      ]
    },
    {
      "cell_type": "code",
      "metadata": {
        "id": "1dd-moeuuVVc",
        "colab_type": "code",
        "colab": {}
      },
      "source": [
        ""
      ],
      "execution_count": null,
      "outputs": []
    },
    {
      "cell_type": "code",
      "metadata": {
        "id": "8SqnJweEuNpH",
        "colab_type": "code",
        "colab": {}
      },
      "source": [
        ""
      ],
      "execution_count": null,
      "outputs": []
    }
  ]
}